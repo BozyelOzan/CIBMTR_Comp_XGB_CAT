{
 "cells": [
  {
   "cell_type": "code",
   "execution_count": 1,
   "id": "8a367722",
   "metadata": {
    "execution": {
     "iopub.execute_input": "2025-02-27T17:16:40.233047Z",
     "iopub.status.busy": "2025-02-27T17:16:40.232739Z",
     "iopub.status.idle": "2025-02-27T17:17:00.288992Z",
     "shell.execute_reply": "2025-02-27T17:17:00.287934Z"
    },
    "papermill": {
     "duration": 20.062948,
     "end_time": "2025-02-27T17:17:00.290753",
     "exception": false,
     "start_time": "2025-02-27T17:16:40.227805",
     "status": "completed"
    },
    "scrolled": true,
    "tags": []
   },
   "outputs": [
    {
     "name": "stdout",
     "output_type": "stream",
     "text": [
      "Processing /kaggle/input/pip-install-lifelines/autograd-1.7.0-py3-none-any.whl\r\n",
      "Requirement already satisfied: numpy in /usr/local/lib/python3.10/dist-packages (from autograd==1.7.0) (1.26.4)\r\n",
      "Requirement already satisfied: mkl_fft in /usr/local/lib/python3.10/dist-packages (from numpy->autograd==1.7.0) (1.3.8)\r\n",
      "Requirement already satisfied: mkl_random in /usr/local/lib/python3.10/dist-packages (from numpy->autograd==1.7.0) (1.2.4)\r\n",
      "Requirement already satisfied: mkl_umath in /usr/local/lib/python3.10/dist-packages (from numpy->autograd==1.7.0) (0.1.1)\r\n",
      "Requirement already satisfied: mkl in /usr/local/lib/python3.10/dist-packages (from numpy->autograd==1.7.0) (2025.0.1)\r\n",
      "Requirement already satisfied: tbb4py in /usr/local/lib/python3.10/dist-packages (from numpy->autograd==1.7.0) (2022.0.0)\r\n",
      "Requirement already satisfied: mkl-service in /usr/local/lib/python3.10/dist-packages (from numpy->autograd==1.7.0) (2.4.1)\r\n",
      "Requirement already satisfied: intel-openmp>=2024 in /usr/local/lib/python3.10/dist-packages (from mkl->numpy->autograd==1.7.0) (2024.2.0)\r\n",
      "Requirement already satisfied: tbb==2022.* in /usr/local/lib/python3.10/dist-packages (from mkl->numpy->autograd==1.7.0) (2022.0.0)\r\n",
      "Requirement already satisfied: tcmlib==1.* in /usr/local/lib/python3.10/dist-packages (from tbb==2022.*->mkl->numpy->autograd==1.7.0) (1.2.0)\r\n",
      "Requirement already satisfied: intel-cmplr-lib-rt in /usr/local/lib/python3.10/dist-packages (from mkl_umath->numpy->autograd==1.7.0) (2024.2.0)\r\n",
      "Requirement already satisfied: intel-cmplr-lib-ur==2024.2.0 in /usr/local/lib/python3.10/dist-packages (from intel-openmp>=2024->mkl->numpy->autograd==1.7.0) (2024.2.0)\r\n",
      "autograd is already installed with the same version as the provided wheel. Use --force-reinstall to force an installation of the wheel.\r\n",
      "Processing /kaggle/input/pip-install-lifelines/autograd-gamma-0.5.0.tar.gz\r\n",
      "  Preparing metadata (setup.py) ... \u001b[?25l\u001b[?25hdone\r\n",
      "Requirement already satisfied: autograd>=1.2.0 in /usr/local/lib/python3.10/dist-packages (from autograd-gamma==0.5.0) (1.7.0)\r\n",
      "Requirement already satisfied: scipy>=1.2.0 in /usr/local/lib/python3.10/dist-packages (from autograd-gamma==0.5.0) (1.13.1)\r\n",
      "Requirement already satisfied: numpy in /usr/local/lib/python3.10/dist-packages (from autograd>=1.2.0->autograd-gamma==0.5.0) (1.26.4)\r\n",
      "Requirement already satisfied: mkl_fft in /usr/local/lib/python3.10/dist-packages (from numpy->autograd>=1.2.0->autograd-gamma==0.5.0) (1.3.8)\r\n",
      "Requirement already satisfied: mkl_random in /usr/local/lib/python3.10/dist-packages (from numpy->autograd>=1.2.0->autograd-gamma==0.5.0) (1.2.4)\r\n",
      "Requirement already satisfied: mkl_umath in /usr/local/lib/python3.10/dist-packages (from numpy->autograd>=1.2.0->autograd-gamma==0.5.0) (0.1.1)\r\n",
      "Requirement already satisfied: mkl in /usr/local/lib/python3.10/dist-packages (from numpy->autograd>=1.2.0->autograd-gamma==0.5.0) (2025.0.1)\r\n",
      "Requirement already satisfied: tbb4py in /usr/local/lib/python3.10/dist-packages (from numpy->autograd>=1.2.0->autograd-gamma==0.5.0) (2022.0.0)\r\n",
      "Requirement already satisfied: mkl-service in /usr/local/lib/python3.10/dist-packages (from numpy->autograd>=1.2.0->autograd-gamma==0.5.0) (2.4.1)\r\n",
      "Requirement already satisfied: intel-openmp>=2024 in /usr/local/lib/python3.10/dist-packages (from mkl->numpy->autograd>=1.2.0->autograd-gamma==0.5.0) (2024.2.0)\r\n",
      "Requirement already satisfied: tbb==2022.* in /usr/local/lib/python3.10/dist-packages (from mkl->numpy->autograd>=1.2.0->autograd-gamma==0.5.0) (2022.0.0)\r\n",
      "Requirement already satisfied: tcmlib==1.* in /usr/local/lib/python3.10/dist-packages (from tbb==2022.*->mkl->numpy->autograd>=1.2.0->autograd-gamma==0.5.0) (1.2.0)\r\n",
      "Requirement already satisfied: intel-cmplr-lib-rt in /usr/local/lib/python3.10/dist-packages (from mkl_umath->numpy->autograd>=1.2.0->autograd-gamma==0.5.0) (2024.2.0)\r\n",
      "Requirement already satisfied: intel-cmplr-lib-ur==2024.2.0 in /usr/local/lib/python3.10/dist-packages (from intel-openmp>=2024->mkl->numpy->autograd>=1.2.0->autograd-gamma==0.5.0) (2024.2.0)\r\n",
      "Building wheels for collected packages: autograd-gamma\r\n",
      "  Building wheel for autograd-gamma (setup.py) ... \u001b[?25l\u001b[?25hdone\r\n",
      "  Created wheel for autograd-gamma: filename=autograd_gamma-0.5.0-py3-none-any.whl size=4031 sha256=1ebd82441f9e8cbe5aaaa6ab53a3015ef41a6f299a76dd4ab360104d1e385c05\r\n",
      "  Stored in directory: /root/.cache/pip/wheels/6b/b5/e0/4c79e15c0b5f2c15ecf613c720bb20daab20a666eb67135155\r\n",
      "Successfully built autograd-gamma\r\n",
      "Installing collected packages: autograd-gamma\r\n",
      "Successfully installed autograd-gamma-0.5.0\r\n",
      "Processing /kaggle/input/pip-install-lifelines/interface_meta-1.3.0-py3-none-any.whl\r\n",
      "Installing collected packages: interface-meta\r\n",
      "Successfully installed interface-meta-1.3.0\r\n",
      "Processing /kaggle/input/pip-install-lifelines/formulaic-1.0.2-py3-none-any.whl\r\n",
      "Requirement already satisfied: interface-meta>=1.2.0 in /usr/local/lib/python3.10/dist-packages (from formulaic==1.0.2) (1.3.0)\r\n",
      "Requirement already satisfied: numpy>=1.16.5 in /usr/local/lib/python3.10/dist-packages (from formulaic==1.0.2) (1.26.4)\r\n",
      "Requirement already satisfied: pandas>=1.0 in /usr/local/lib/python3.10/dist-packages (from formulaic==1.0.2) (2.2.3)\r\n",
      "Requirement already satisfied: scipy>=1.6 in /usr/local/lib/python3.10/dist-packages (from formulaic==1.0.2) (1.13.1)\r\n",
      "Requirement already satisfied: typing-extensions>=4.2.0 in /usr/local/lib/python3.10/dist-packages (from formulaic==1.0.2) (4.12.2)\r\n",
      "Requirement already satisfied: wrapt>=1.0 in /usr/local/lib/python3.10/dist-packages (from formulaic==1.0.2) (1.17.0)\r\n",
      "Requirement already satisfied: mkl_fft in /usr/local/lib/python3.10/dist-packages (from numpy>=1.16.5->formulaic==1.0.2) (1.3.8)\r\n",
      "Requirement already satisfied: mkl_random in /usr/local/lib/python3.10/dist-packages (from numpy>=1.16.5->formulaic==1.0.2) (1.2.4)\r\n",
      "Requirement already satisfied: mkl_umath in /usr/local/lib/python3.10/dist-packages (from numpy>=1.16.5->formulaic==1.0.2) (0.1.1)\r\n",
      "Requirement already satisfied: mkl in /usr/local/lib/python3.10/dist-packages (from numpy>=1.16.5->formulaic==1.0.2) (2025.0.1)\r\n",
      "Requirement already satisfied: tbb4py in /usr/local/lib/python3.10/dist-packages (from numpy>=1.16.5->formulaic==1.0.2) (2022.0.0)\r\n",
      "Requirement already satisfied: mkl-service in /usr/local/lib/python3.10/dist-packages (from numpy>=1.16.5->formulaic==1.0.2) (2.4.1)\r\n",
      "Requirement already satisfied: python-dateutil>=2.8.2 in /usr/local/lib/python3.10/dist-packages (from pandas>=1.0->formulaic==1.0.2) (2.9.0.post0)\r\n",
      "Requirement already satisfied: pytz>=2020.1 in /usr/local/lib/python3.10/dist-packages (from pandas>=1.0->formulaic==1.0.2) (2025.1)\r\n",
      "Requirement already satisfied: tzdata>=2022.7 in /usr/local/lib/python3.10/dist-packages (from pandas>=1.0->formulaic==1.0.2) (2025.1)\r\n",
      "Requirement already satisfied: six>=1.5 in /usr/local/lib/python3.10/dist-packages (from python-dateutil>=2.8.2->pandas>=1.0->formulaic==1.0.2) (1.17.0)\r\n",
      "Requirement already satisfied: intel-openmp>=2024 in /usr/local/lib/python3.10/dist-packages (from mkl->numpy>=1.16.5->formulaic==1.0.2) (2024.2.0)\r\n",
      "Requirement already satisfied: tbb==2022.* in /usr/local/lib/python3.10/dist-packages (from mkl->numpy>=1.16.5->formulaic==1.0.2) (2022.0.0)\r\n",
      "Requirement already satisfied: tcmlib==1.* in /usr/local/lib/python3.10/dist-packages (from tbb==2022.*->mkl->numpy>=1.16.5->formulaic==1.0.2) (1.2.0)\r\n",
      "Requirement already satisfied: intel-cmplr-lib-rt in /usr/local/lib/python3.10/dist-packages (from mkl_umath->numpy>=1.16.5->formulaic==1.0.2) (2024.2.0)\r\n",
      "Requirement already satisfied: intel-cmplr-lib-ur==2024.2.0 in /usr/local/lib/python3.10/dist-packages (from intel-openmp>=2024->mkl->numpy>=1.16.5->formulaic==1.0.2) (2024.2.0)\r\n",
      "Installing collected packages: formulaic\r\n",
      "Successfully installed formulaic-1.0.2\r\n",
      "Processing /kaggle/input/pip-install-lifelines/lifelines-0.30.0-py3-none-any.whl\r\n",
      "Requirement already satisfied: numpy>=1.14.0 in /usr/local/lib/python3.10/dist-packages (from lifelines==0.30.0) (1.26.4)\r\n",
      "Requirement already satisfied: scipy>=1.7.0 in /usr/local/lib/python3.10/dist-packages (from lifelines==0.30.0) (1.13.1)\r\n",
      "Requirement already satisfied: pandas>=2.1 in /usr/local/lib/python3.10/dist-packages (from lifelines==0.30.0) (2.2.3)\r\n",
      "Requirement already satisfied: matplotlib>=3.0 in /usr/local/lib/python3.10/dist-packages (from lifelines==0.30.0) (3.7.5)\r\n",
      "Requirement already satisfied: autograd>=1.5 in /usr/local/lib/python3.10/dist-packages (from lifelines==0.30.0) (1.7.0)\r\n",
      "Requirement already satisfied: autograd-gamma>=0.3 in /usr/local/lib/python3.10/dist-packages (from lifelines==0.30.0) (0.5.0)\r\n",
      "Requirement already satisfied: formulaic>=0.2.2 in /usr/local/lib/python3.10/dist-packages (from lifelines==0.30.0) (1.0.2)\r\n",
      "Requirement already satisfied: interface-meta>=1.2.0 in /usr/local/lib/python3.10/dist-packages (from formulaic>=0.2.2->lifelines==0.30.0) (1.3.0)\r\n",
      "Requirement already satisfied: typing-extensions>=4.2.0 in /usr/local/lib/python3.10/dist-packages (from formulaic>=0.2.2->lifelines==0.30.0) (4.12.2)\r\n",
      "Requirement already satisfied: wrapt>=1.0 in /usr/local/lib/python3.10/dist-packages (from formulaic>=0.2.2->lifelines==0.30.0) (1.17.0)\r\n",
      "Requirement already satisfied: contourpy>=1.0.1 in /usr/local/lib/python3.10/dist-packages (from matplotlib>=3.0->lifelines==0.30.0) (1.3.1)\r\n",
      "Requirement already satisfied: cycler>=0.10 in /usr/local/lib/python3.10/dist-packages (from matplotlib>=3.0->lifelines==0.30.0) (0.12.1)\r\n",
      "Requirement already satisfied: fonttools>=4.22.0 in /usr/local/lib/python3.10/dist-packages (from matplotlib>=3.0->lifelines==0.30.0) (4.55.3)\r\n",
      "Requirement already satisfied: kiwisolver>=1.0.1 in /usr/local/lib/python3.10/dist-packages (from matplotlib>=3.0->lifelines==0.30.0) (1.4.7)\r\n",
      "Requirement already satisfied: packaging>=20.0 in /usr/local/lib/python3.10/dist-packages (from matplotlib>=3.0->lifelines==0.30.0) (24.2)\r\n",
      "Requirement already satisfied: pillow>=6.2.0 in /usr/local/lib/python3.10/dist-packages (from matplotlib>=3.0->lifelines==0.30.0) (11.0.0)\r\n",
      "Requirement already satisfied: pyparsing>=2.3.1 in /usr/local/lib/python3.10/dist-packages (from matplotlib>=3.0->lifelines==0.30.0) (3.2.0)\r\n",
      "Requirement already satisfied: python-dateutil>=2.7 in /usr/local/lib/python3.10/dist-packages (from matplotlib>=3.0->lifelines==0.30.0) (2.9.0.post0)\r\n",
      "Requirement already satisfied: mkl_fft in /usr/local/lib/python3.10/dist-packages (from numpy>=1.14.0->lifelines==0.30.0) (1.3.8)\r\n",
      "Requirement already satisfied: mkl_random in /usr/local/lib/python3.10/dist-packages (from numpy>=1.14.0->lifelines==0.30.0) (1.2.4)\r\n",
      "Requirement already satisfied: mkl_umath in /usr/local/lib/python3.10/dist-packages (from numpy>=1.14.0->lifelines==0.30.0) (0.1.1)\r\n",
      "Requirement already satisfied: mkl in /usr/local/lib/python3.10/dist-packages (from numpy>=1.14.0->lifelines==0.30.0) (2025.0.1)\r\n",
      "Requirement already satisfied: tbb4py in /usr/local/lib/python3.10/dist-packages (from numpy>=1.14.0->lifelines==0.30.0) (2022.0.0)\r\n",
      "Requirement already satisfied: mkl-service in /usr/local/lib/python3.10/dist-packages (from numpy>=1.14.0->lifelines==0.30.0) (2.4.1)\r\n",
      "Requirement already satisfied: pytz>=2020.1 in /usr/local/lib/python3.10/dist-packages (from pandas>=2.1->lifelines==0.30.0) (2025.1)\r\n",
      "Requirement already satisfied: tzdata>=2022.7 in /usr/local/lib/python3.10/dist-packages (from pandas>=2.1->lifelines==0.30.0) (2025.1)\r\n",
      "Requirement already satisfied: six>=1.5 in /usr/local/lib/python3.10/dist-packages (from python-dateutil>=2.7->matplotlib>=3.0->lifelines==0.30.0) (1.17.0)\r\n",
      "Requirement already satisfied: intel-openmp>=2024 in /usr/local/lib/python3.10/dist-packages (from mkl->numpy>=1.14.0->lifelines==0.30.0) (2024.2.0)\r\n",
      "Requirement already satisfied: tbb==2022.* in /usr/local/lib/python3.10/dist-packages (from mkl->numpy>=1.14.0->lifelines==0.30.0) (2022.0.0)\r\n",
      "Requirement already satisfied: tcmlib==1.* in /usr/local/lib/python3.10/dist-packages (from tbb==2022.*->mkl->numpy>=1.14.0->lifelines==0.30.0) (1.2.0)\r\n",
      "Requirement already satisfied: intel-cmplr-lib-rt in /usr/local/lib/python3.10/dist-packages (from mkl_umath->numpy>=1.14.0->lifelines==0.30.0) (2024.2.0)\r\n",
      "Requirement already satisfied: intel-cmplr-lib-ur==2024.2.0 in /usr/local/lib/python3.10/dist-packages (from intel-openmp>=2024->mkl->numpy>=1.14.0->lifelines==0.30.0) (2024.2.0)\r\n",
      "Installing collected packages: lifelines\r\n",
      "Successfully installed lifelines-0.30.0\r\n"
     ]
    }
   ],
   "source": [
    "!pip install /kaggle/input/pip-install-lifelines/autograd-1.7.0-py3-none-any.whl\n",
    "!pip install /kaggle/input/pip-install-lifelines/autograd-gamma-0.5.0.tar.gz\n",
    "!pip install /kaggle/input/pip-install-lifelines/interface_meta-1.3.0-py3-none-any.whl\n",
    "!pip install /kaggle/input/pip-install-lifelines/formulaic-1.0.2-py3-none-any.whl\n",
    "!pip install /kaggle/input/pip-install-lifelines/lifelines-0.30.0-py3-none-any.whl"
   ]
  },
  {
   "cell_type": "code",
   "execution_count": 2,
   "id": "7f2e72f9",
   "metadata": {
    "execution": {
     "iopub.execute_input": "2025-02-27T17:17:00.300919Z",
     "iopub.status.busy": "2025-02-27T17:17:00.300677Z",
     "iopub.status.idle": "2025-02-27T17:17:03.196819Z",
     "shell.execute_reply": "2025-02-27T17:17:03.195853Z"
    },
    "papermill": {
     "duration": 2.902883,
     "end_time": "2025-02-27T17:17:03.198630",
     "exception": false,
     "start_time": "2025-02-27T17:17:00.295747",
     "status": "completed"
    },
    "tags": []
   },
   "outputs": [],
   "source": [
    "import warnings\n",
    "warnings.simplefilter(action='ignore', category=FutureWarning)\n",
    "\n",
    "import numpy as np \n",
    "import pandas as pd \n",
    "\n",
    "import optuna\n",
    "optuna.logging.set_verbosity(optuna.logging.WARNING) \n",
    "\n",
    "import catboost as cb\n",
    "\n",
    "from lifelines import KaplanMeierFitter\n",
    "\n",
    "from sklearn.metrics import mean_absolute_error, mean_squared_error, accuracy_score\n",
    "from sklearn.model_selection import train_test_split\n",
    "from sklearn.preprocessing import LabelEncoder, StandardScaler\n",
    "\n",
    "import matplotlib.pyplot as plt\n",
    "\n",
    "import os\n",
    "import random\n",
    "import pickle"
   ]
  },
  {
   "cell_type": "code",
   "execution_count": 3,
   "id": "4c5f15c1",
   "metadata": {
    "execution": {
     "iopub.execute_input": "2025-02-27T17:17:03.208442Z",
     "iopub.status.busy": "2025-02-27T17:17:03.208040Z",
     "iopub.status.idle": "2025-02-27T17:17:03.211819Z",
     "shell.execute_reply": "2025-02-27T17:17:03.211212Z"
    },
    "papermill": {
     "duration": 0.009688,
     "end_time": "2025-02-27T17:17:03.212891",
     "exception": false,
     "start_time": "2025-02-27T17:17:03.203203",
     "status": "completed"
    },
    "tags": []
   },
   "outputs": [],
   "source": [
    "def transform_survival_probability(df, time_col='efs_time', event_col='efs'):\n",
    "    kmf = KaplanMeierFitter()\n",
    "    kmf.fit(df[time_col], df[event_col])\n",
    "    y = kmf.survival_function_at_times(df[time_col]).values\n",
    "    return y"
   ]
  },
  {
   "cell_type": "code",
   "execution_count": 4,
   "id": "4ca3027e",
   "metadata": {
    "execution": {
     "iopub.execute_input": "2025-02-27T17:17:03.221881Z",
     "iopub.status.busy": "2025-02-27T17:17:03.221667Z",
     "iopub.status.idle": "2025-02-27T17:17:03.230645Z",
     "shell.execute_reply": "2025-02-27T17:17:03.230018Z"
    },
    "papermill": {
     "duration": 0.01465,
     "end_time": "2025-02-27T17:17:03.231778",
     "exception": false,
     "start_time": "2025-02-27T17:17:03.217128",
     "status": "completed"
    },
    "tags": []
   },
   "outputs": [],
   "source": [
    "class DataTransformation:\n",
    "    \"\"\"\n",
    "    A class for transforming and preprocessing data for machine learning models.\n",
    "    \"\"\"\n",
    "    def __init__(self, data_train: pd.DataFrame, data_test: pd.DataFrame):\n",
    "        \"\"\"\n",
    "        Initializes the DataTransformation class.\n",
    "\n",
    "        Args:\n",
    "            data_train (pd.DataFrame): The training data.\n",
    "            data_test (pd.DataFrame): The testing data.\n",
    "        \"\"\"\n",
    "        self.data_train = data_train.copy()\n",
    "        self.data_test = data_test.copy()\n",
    "    \n",
    "    def numeric_transform(self):\n",
    "        \"\"\"\n",
    "        Transforms numeric columns by filling missing values with the median,\n",
    "        casting to appropriate data types, and applying StandardScaler.\n",
    "        \"\"\"\n",
    "        _num_col = self.data_train.select_dtypes(include=['int', 'float']).columns\n",
    "        \n",
    "        for col in _num_col:\n",
    "            m_v_1 = self.data_train[col].median()\n",
    "\n",
    "            self.data_train[col] = self.data_train[col].fillna(m_v_1)\n",
    "            self.data_test[col] = self.data_test[col].fillna(m_v_1)\n",
    "\n",
    "            if self.data_train[col].dtype == 'int64':\n",
    "                self.data_train[col] = self.data_train[col].astype('int32')\n",
    "                self.data_test[col] = self.data_test[col].astype('int32')\n",
    "            else:\n",
    "                self.data_train[col] = self.data_train[col].astype('float32')\n",
    "                self.data_test[col] = self.data_test[col].astype('float32')\n",
    "        \n",
    "        scaler = StandardScaler()\n",
    "        self.data_train[_num_col] = scaler.fit_transform(self.data_train[_num_col])\n",
    "        self.data_test[_num_col] = scaler.fit_transform(self.data_test[_num_col])\n",
    "\n",
    "    def categoric_transform(self):\n",
    "        \"\"\"\n",
    "        Transforms categorical columns by filling missing values with 'Missing',\n",
    "        applying LabelEncoder.\n",
    "        \"\"\"\n",
    "        _cat_col = self.data_train.select_dtypes(include=['object', 'category']).columns\n",
    "\n",
    "        for col in _cat_col:\n",
    "            le = LabelEncoder()\n",
    "            self.data_train[col] = self.data_train[col].fillna('Missing')\n",
    "            self.data_test[col] = self.data_test[col].fillna('Missing')\n",
    "            self.data_train[col] = le.fit_transform(self.data_train[col])\n",
    "            self.data_test[col] = le.transform(self.data_test[col])\n",
    "\n",
    "    \n",
    "    def _transformation_values(self):\n",
    "        \"\"\"\n",
    "        Applies numeric and categorical transformations to the data.\n",
    "\n",
    "        Returns:\n",
    "            tuple: A tuple containing the transformed training data,\n",
    "                   transformed testing data.\n",
    "        \"\"\"\n",
    "        self.numeric_transform()\n",
    "        self.categoric_transform()\n",
    "        \n",
    "        return (\n",
    "            self.data_train.copy(),\n",
    "            self.data_test.copy()\n",
    "        )"
   ]
  },
  {
   "cell_type": "code",
   "execution_count": 5,
   "id": "efec1475",
   "metadata": {
    "execution": {
     "iopub.execute_input": "2025-02-27T17:17:03.240801Z",
     "iopub.status.busy": "2025-02-27T17:17:03.240592Z",
     "iopub.status.idle": "2025-02-27T17:17:03.254206Z",
     "shell.execute_reply": "2025-02-27T17:17:03.253574Z"
    },
    "papermill": {
     "duration": 0.019414,
     "end_time": "2025-02-27T17:17:03.255417",
     "exception": false,
     "start_time": "2025-02-27T17:17:03.236003",
     "status": "completed"
    },
    "tags": []
   },
   "outputs": [],
   "source": [
    "class CatBoostModel:\n",
    "    def __init__(self, objective='RMSE', eval_metric='RMSE', n_trials=100):\n",
    "        self.objective = objective\n",
    "        self.eval_metric = eval_metric\n",
    "        self.n_trials = n_trials\n",
    "        self.best_params = None\n",
    "        self.model = None\n",
    "        self.history = None\n",
    "        self.best_iteration = None\n",
    "\n",
    "    def objective_function(self, trial, X_train, y_train, X_val, y_val):\n",
    "        params = {\n",
    "            'objective': self.objective,\n",
    "            'eval_metric': self.eval_metric,\n",
    "            'loss_function': self.objective,\n",
    "            'iterations': trial.suggest_int('iterations', 100, 1000),\n",
    "            'learning_rate': trial.suggest_float('learning_rate', 0.005, 0.1),\n",
    "            'depth': trial.suggest_int('depth', 3, 10),\n",
    "            'l2_leaf_reg': trial.suggest_float('l2_leaf_reg', 1e-8, 1.0, log=True),\n",
    "            'random_seed': 42,\n",
    "            'task_type': 'GPU',\n",
    "            'verbose': False\n",
    "        }\n",
    "\n",
    "        model = cb.CatBoostRegressor(**params)\n",
    "        model.fit(X_train, y_train,\n",
    "                  eval_set=[(X_val, y_val)],\n",
    "                  verbose=False)\n",
    "\n",
    "        preds = model.predict(X_val)\n",
    "\n",
    "        if self.eval_metric == 'MAE':\n",
    "            score = mean_absolute_error(y_val, preds)\n",
    "        elif self.eval_metric == 'RMSE':\n",
    "            score = np.sqrt(mean_squared_error(y_val, preds))\n",
    "        else:\n",
    "            raise ValueError(f\"Unknown evaluation metric: {self.eval_metric}\")\n",
    "\n",
    "        return score\n",
    "\n",
    "    def optimize_hyperparameters(self, X_train, y_train, X_val, y_val):\n",
    "        study = optuna.create_study(direction='minimize')\n",
    "        study.optimize(lambda trial: self.objective_function(trial, X_train, y_train, X_val, y_val),\n",
    "                       n_trials=self.n_trials)\n",
    "\n",
    "        self.best_params = study.best_params\n",
    "        print(f\"Best parameters: {self.best_params}\")\n",
    "\n",
    "    def train(self, X_train, y_train, X_val=None, y_val=None):\n",
    "        if self.best_params is None:\n",
    "            raise ValueError(\"You must optimize hyperparameters first.\")\n",
    "\n",
    "        params = self.best_params.copy()\n",
    "        params['objective'] = self.objective\n",
    "        params['eval_metric'] = self.eval_metric\n",
    "        params['loss_function'] = self.objective\n",
    "        params['random_seed'] = 42\n",
    "        params['verbose'] = False\n",
    "\n",
    "        self.model = cb.CatBoostRegressor(**params)\n",
    "\n",
    "        if X_val is not None and y_val is not None:\n",
    "            self.model.fit(X_train, y_train,\n",
    "                           eval_set=[(X_val, y_val)],\n",
    "                           verbose=False,\n",
    "                           plot=False)\n",
    "            self.history = self.model.get_evals_result()\n",
    "            self.best_iteration = self.model.get_best_iteration()\n",
    "        else:\n",
    "            self.model.fit(X_train, y_train, verbose=False)\n",
    "            self.history = None\n",
    "            self.best_iteration = None\n",
    "\n",
    "    def plot_training_history(self):\n",
    "        if self.history is None:\n",
    "            print(\"Training history is not available. Please train with validation data.\")\n",
    "            return\n",
    "        \n",
    "        print(\"Educational background structure:\", self.history.keys())\n",
    "\n",
    "        metric = self.eval_metric  \n",
    "\n",
    "        plt.figure(figsize=(10, 6))\n",
    "        plt.plot(self.history['validation'][metric], label=f'Validation ({metric})')\n",
    "\n",
    "        if self.best_iteration is not None:\n",
    "            plt.axvline(self.best_iteration, color='red', linestyle='--', label=f'Best Iteration ({self.best_iteration})')\n",
    "        plt.xlabel('Training Round')\n",
    "        plt.ylabel(metric.upper())\n",
    "        plt.title(f'CatBoost Training History ({metric})')\n",
    "        plt.legend()\n",
    "        plt.grid(True)\n",
    "        plt.show()\n",
    "\n",
    "    def predict(self, X):\n",
    "        if self.model is None:\n",
    "            raise ValueError(\"You must train the model first.\")\n",
    "        return self.model.predict(X)\n",
    "\n",
    "    def save_model(self, filepath):\n",
    "        with open(filepath, 'wb') as f:\n",
    "            pickle.dump(self.model, f)\n",
    "        print(f\"Model saved to: {filepath}\")\n",
    "\n",
    "    def load_model(self, filepath):\n",
    "        if not os.path.exists(filepath):\n",
    "            raise FileNotFoundError(f\"Model file not found: {filepath}\")\n",
    "\n",
    "        with open(filepath, 'rb') as f:\n",
    "            self.model = pickle.load(f)\n",
    "        print(f\"Model loaded from: {filepath}\")\n",
    "\n",
    "    def evaluate(self, X_test, y_test):\n",
    "        if self.model is None:\n",
    "            raise ValueError(\"You must train the model first.\")\n",
    "\n",
    "        preds = self.predict(X_test)\n",
    "        if self.eval_metric == 'MAE':\n",
    "            score = mean_absolute_error(y_test, preds)\n",
    "        elif self.eval_metric == 'RMSE':\n",
    "            score = np.sqrt(mean_squared_error(y_test, preds))\n",
    "        else:\n",
    "            raise ValueError(f\"Unknown evaluation metric: {self.eval_metric}\")\n",
    "        print(f\"Test data {self.eval_metric}: {score}\")\n",
    "        return score\n",
    "      "
   ]
  },
  {
   "cell_type": "code",
   "execution_count": 6,
   "id": "5433e77e",
   "metadata": {
    "execution": {
     "iopub.execute_input": "2025-02-27T17:17:03.264201Z",
     "iopub.status.busy": "2025-02-27T17:17:03.263968Z",
     "iopub.status.idle": "2025-02-27T17:17:03.267020Z",
     "shell.execute_reply": "2025-02-27T17:17:03.266417Z"
    },
    "papermill": {
     "duration": 0.008705,
     "end_time": "2025-02-27T17:17:03.268237",
     "exception": false,
     "start_time": "2025-02-27T17:17:03.259532",
     "status": "completed"
    },
    "tags": []
   },
   "outputs": [],
   "source": [
    "def set_seed(seed=42):\n",
    "    random.seed(seed)\n",
    "    np.random.seed(seed)\n",
    "    \n",
    "set_seed(42)"
   ]
  },
  {
   "cell_type": "code",
   "execution_count": 7,
   "id": "44b863a4",
   "metadata": {
    "execution": {
     "iopub.execute_input": "2025-02-27T17:17:03.277013Z",
     "iopub.status.busy": "2025-02-27T17:17:03.276807Z",
     "iopub.status.idle": "2025-02-27T17:17:03.641095Z",
     "shell.execute_reply": "2025-02-27T17:17:03.640393Z"
    },
    "papermill": {
     "duration": 0.370326,
     "end_time": "2025-02-27T17:17:03.642697",
     "exception": false,
     "start_time": "2025-02-27T17:17:03.272371",
     "status": "completed"
    },
    "tags": []
   },
   "outputs": [],
   "source": [
    "df_train = pd.read_csv('/kaggle/input/equity-post-HCT-survival-predictions/train.csv')\n",
    "df_test = pd.read_csv('/kaggle/input/equity-post-HCT-survival-predictions/test.csv')\n",
    "\n",
    "df_tr_y_time = df_train[['efs', 'efs_time']]\n",
    "df_train = df_train.drop(columns=['ID','efs','efs_time'])"
   ]
  },
  {
   "cell_type": "code",
   "execution_count": 8,
   "id": "df46ce47",
   "metadata": {
    "execution": {
     "iopub.execute_input": "2025-02-27T17:17:03.652266Z",
     "iopub.status.busy": "2025-02-27T17:17:03.652005Z",
     "iopub.status.idle": "2025-02-27T17:17:03.728587Z",
     "shell.execute_reply": "2025-02-27T17:17:03.727832Z"
    },
    "papermill": {
     "duration": 0.083096,
     "end_time": "2025-02-27T17:17:03.730348",
     "exception": false,
     "start_time": "2025-02-27T17:17:03.647252",
     "status": "completed"
    },
    "tags": []
   },
   "outputs": [],
   "source": [
    "df_tr_y_time['target'] = transform_survival_probability(df_tr_y_time, time_col='efs_time', event_col='efs')\n",
    "tr_y = df_tr_y_time.copy().drop(columns=['efs', 'efs_time'])"
   ]
  },
  {
   "cell_type": "code",
   "execution_count": 9,
   "id": "44f64598",
   "metadata": {
    "execution": {
     "iopub.execute_input": "2025-02-27T17:17:03.740892Z",
     "iopub.status.busy": "2025-02-27T17:17:03.740622Z",
     "iopub.status.idle": "2025-02-27T17:17:04.119187Z",
     "shell.execute_reply": "2025-02-27T17:17:04.118428Z"
    },
    "papermill": {
     "duration": 0.385411,
     "end_time": "2025-02-27T17:17:04.120956",
     "exception": false,
     "start_time": "2025-02-27T17:17:03.735545",
     "status": "completed"
    },
    "tags": []
   },
   "outputs": [],
   "source": [
    "TF = DataTransformation(df_train, df_test)\n",
    "data_train, data_test = TF._transformation_values()"
   ]
  },
  {
   "cell_type": "code",
   "execution_count": 10,
   "id": "c91520a3",
   "metadata": {
    "execution": {
     "iopub.execute_input": "2025-02-27T17:17:04.132023Z",
     "iopub.status.busy": "2025-02-27T17:17:04.131730Z",
     "iopub.status.idle": "2025-02-27T17:17:04.148067Z",
     "shell.execute_reply": "2025-02-27T17:17:04.147318Z"
    },
    "papermill": {
     "duration": 0.023628,
     "end_time": "2025-02-27T17:17:04.149844",
     "exception": false,
     "start_time": "2025-02-27T17:17:04.126216",
     "status": "completed"
    },
    "tags": []
   },
   "outputs": [],
   "source": [
    "X_train, X_other, y_train, y_other = train_test_split(data_train, tr_y, test_size=0.2, random_state=42)\n",
    "X_val, X_test, y_val, y_test = train_test_split(X_other, y_other, test_size=0.25, random_state=42)"
   ]
  },
  {
   "cell_type": "code",
   "execution_count": 11,
   "id": "0faf2ac2",
   "metadata": {
    "execution": {
     "iopub.execute_input": "2025-02-27T17:17:04.162652Z",
     "iopub.status.busy": "2025-02-27T17:17:04.162332Z",
     "iopub.status.idle": "2025-02-27T17:40:33.612629Z",
     "shell.execute_reply": "2025-02-27T17:40:33.611505Z"
    },
    "papermill": {
     "duration": 1409.462291,
     "end_time": "2025-02-27T17:40:33.618177",
     "exception": false,
     "start_time": "2025-02-27T17:17:04.155886",
     "status": "completed"
    },
    "scrolled": true,
    "tags": []
   },
   "outputs": [
    {
     "name": "stdout",
     "output_type": "stream",
     "text": [
      "Best parameters: {'iterations': 959, 'learning_rate': 0.08404628870800615, 'depth': 8, 'l2_leaf_reg': 0.21621075271065296}\n",
      "CPU times: user 25min 5s, sys: 2min 17s, total: 27min 23s\n",
      "Wall time: 23min 29s\n"
     ]
    }
   ],
   "source": [
    "%%time\n",
    "model_cat = CatBoostModel(objective='RMSE', eval_metric='RMSE', n_trials=100)\n",
    "model_cat.optimize_hyperparameters(X_train, y_train, X_val, y_val)"
   ]
  },
  {
   "cell_type": "code",
   "execution_count": 12,
   "id": "381f7e9a",
   "metadata": {
    "execution": {
     "iopub.execute_input": "2025-02-27T17:40:33.627667Z",
     "iopub.status.busy": "2025-02-27T17:40:33.627356Z",
     "iopub.status.idle": "2025-02-27T17:40:39.968991Z",
     "shell.execute_reply": "2025-02-27T17:40:39.968204Z"
    },
    "papermill": {
     "duration": 6.347863,
     "end_time": "2025-02-27T17:40:39.970436",
     "exception": false,
     "start_time": "2025-02-27T17:40:33.622573",
     "status": "completed"
    },
    "tags": []
   },
   "outputs": [
    {
     "name": "stdout",
     "output_type": "stream",
     "text": [
      "Educational background structure: dict_keys(['learn', 'validation'])\n"
     ]
    },
    {
     "data": {
      "image/png": "[encoded data removed]",
      "text/plain": [
       "<Figure size 1000x600 with 1 Axes>"
      ]
     },
     "metadata": {},
     "output_type": "display_data"
    },
    {
     "name": "stdout",
     "output_type": "stream",
     "text": [
      "Test data RMSE: 0.16110236707155717\n",
      "Model saved to: /kaggle/working/catboost_model.pkl\n"
     ]
    }
   ],
   "source": [
    "model_cat.train(X_train, y_train, X_val, y_val)\n",
    "model_cat.plot_training_history()\n",
    "model_cat.evaluate(X_test, y_test)\n",
    "model_cat.save_model('/kaggle/working/catboost_model.pkl')"
   ]
  },
  {
   "cell_type": "code",
   "execution_count": 13,
   "id": "7c0dadcb",
   "metadata": {
    "execution": {
     "iopub.execute_input": "2025-02-27T17:40:39.981627Z",
     "iopub.status.busy": "2025-02-27T17:40:39.981390Z",
     "iopub.status.idle": "2025-02-27T17:40:39.985322Z",
     "shell.execute_reply": "2025-02-27T17:40:39.984597Z"
    },
    "papermill": {
     "duration": 0.010637,
     "end_time": "2025-02-27T17:40:39.986413",
     "exception": false,
     "start_time": "2025-02-27T17:40:39.975776",
     "status": "completed"
    },
    "tags": []
   },
   "outputs": [],
   "source": [
    "data_test_id = data_test['ID']\n",
    "data_test = data_test.drop(columns=['ID'])"
   ]
  },
  {
   "cell_type": "code",
   "execution_count": 14,
   "id": "c4cbde90",
   "metadata": {
    "execution": {
     "iopub.execute_input": "2025-02-27T17:40:39.997156Z",
     "iopub.status.busy": "2025-02-27T17:40:39.996921Z",
     "iopub.status.idle": "2025-02-27T17:40:40.006671Z",
     "shell.execute_reply": "2025-02-27T17:40:40.005781Z"
    },
    "papermill": {
     "duration": 0.016605,
     "end_time": "2025-02-27T17:40:40.008015",
     "exception": false,
     "start_time": "2025-02-27T17:40:39.991410",
     "status": "completed"
    },
    "tags": []
   },
   "outputs": [
    {
     "name": "stdout",
     "output_type": "stream",
     "text": [
      "Model loaded from: /kaggle/working/catboost_model.pkl\n",
      "Predictions: [0.53159949 0.65716758 0.51389665]\n"
     ]
    }
   ],
   "source": [
    "loaded_model = CatBoostModel()  \n",
    "loaded_model.load_model('/kaggle/working/catboost_model.pkl')\n",
    "predictions = loaded_model.predict(data_test)\n",
    "print(\"Predictions:\",predictions) "
   ]
  },
  {
   "cell_type": "code",
   "execution_count": 15,
   "id": "c32d832b",
   "metadata": {
    "execution": {
     "iopub.execute_input": "2025-02-27T17:40:40.018787Z",
     "iopub.status.busy": "2025-02-27T17:40:40.018583Z",
     "iopub.status.idle": "2025-02-27T17:40:40.033996Z",
     "shell.execute_reply": "2025-02-27T17:40:40.033204Z"
    },
    "papermill": {
     "duration": 0.02221,
     "end_time": "2025-02-27T17:40:40.035276",
     "exception": false,
     "start_time": "2025-02-27T17:40:40.013066",
     "status": "completed"
    },
    "tags": []
   },
   "outputs": [
    {
     "data": {
      "text/html": [
       "<div>\n",
       "<style scoped>\n",
       "    .dataframe tbody tr th:only-of-type {\n",
       "        vertical-align: middle;\n",
       "    }\n",
       "\n",
       "    .dataframe tbody tr th {\n",
       "        vertical-align: top;\n",
       "    }\n",
       "\n",
       "    .dataframe thead th {\n",
       "        text-align: right;\n",
       "    }\n",
       "</style>\n",
       "<table border=\"1\" class=\"dataframe\">\n",
       "  <thead>\n",
       "    <tr style=\"text-align: right;\">\n",
       "      <th></th>\n",
       "      <th>ID</th>\n",
       "      <th>prediction</th>\n",
       "    </tr>\n",
       "  </thead>\n",
       "  <tbody>\n",
       "    <tr>\n",
       "      <th>0</th>\n",
       "      <td>28800</td>\n",
       "      <td>0.531599</td>\n",
       "    </tr>\n",
       "    <tr>\n",
       "      <th>1</th>\n",
       "      <td>28801</td>\n",
       "      <td>0.657168</td>\n",
       "    </tr>\n",
       "    <tr>\n",
       "      <th>2</th>\n",
       "      <td>28802</td>\n",
       "      <td>0.513897</td>\n",
       "    </tr>\n",
       "  </tbody>\n",
       "</table>\n",
       "</div>"
      ],
      "text/plain": [
       "      ID  prediction\n",
       "0  28800    0.531599\n",
       "1  28801    0.657168\n",
       "2  28802    0.513897"
      ]
     },
     "execution_count": 15,
     "metadata": {},
     "output_type": "execute_result"
    }
   ],
   "source": [
    "output = pd.DataFrame({\n",
    "    'ID': data_test_id, \n",
    "    'prediction': predictions\n",
    "})\n",
    "\n",
    "output"
   ]
  },
  {
   "cell_type": "code",
   "execution_count": 16,
   "id": "514151a4",
   "metadata": {
    "execution": {
     "iopub.execute_input": "2025-02-27T17:40:40.053238Z",
     "iopub.status.busy": "2025-02-27T17:40:40.052919Z",
     "iopub.status.idle": "2025-02-27T17:40:40.060763Z",
     "shell.execute_reply": "2025-02-27T17:40:40.059913Z"
    },
    "papermill": {
     "duration": 0.019681,
     "end_time": "2025-02-27T17:40:40.062030",
     "exception": false,
     "start_time": "2025-02-27T17:40:40.042349",
     "status": "completed"
    },
    "tags": []
   },
   "outputs": [],
   "source": [
    "output.to_csv('submission.csv', index=False)"
   ]
  }
 ],
 "metadata": {
  "kaggle": {
   "accelerator": "gpu",
   "dataSources": [
    {
     "databundleVersionId": 10381525,
     "sourceId": 70942,
     "sourceType": "competition"
    },
    {
     "sourceId": 211322530,
     "sourceType": "kernelVersion"
    }
   ],
   "dockerImageVersionId": 30919,
   "isGpuEnabled": true,
   "isInternetEnabled": false,
   "language": "python",
   "sourceType": "notebook"
  },
  "kernelspec": {
   "display_name": "Python 3",
   "language": "python",
   "name": "python3"
  },
  "language_info": {
   "codemirror_mode": {
    "name": "ipython",
    "version": 3
   },
   "file_extension": ".py",
   "mimetype": "text/x-python",
   "name": "python",
   "nbconvert_exporter": "python",
   "pygments_lexer": "ipython3",
   "version": "3.10.12"
  },
  "papermill": {
   "default_parameters": {},
   "duration": 1443.051068,
   "end_time": "2025-02-27T17:40:40.691413",
   "environment_variables": {},
   "exception": null,
   "input_path": "__notebook__.ipynb",
   "output_path": "__notebook__.ipynb",
   "parameters": {},
   "start_time": "2025-02-27T17:16:37.640345",
   "version": "2.6.0"
  }
 },
 "nbformat": 4,
 "nbformat_minor": 5
}
