{
 "cells": [
  {
   "cell_type": "code",
   "execution_count": 1,
   "id": "12899368",
   "metadata": {
    "execution": {
     "iopub.execute_input": "2025-02-27T14:13:02.272331Z",
     "iopub.status.busy": "2025-02-27T14:13:02.272029Z",
     "iopub.status.idle": "2025-02-27T14:13:21.946127Z",
     "shell.execute_reply": "2025-02-27T14:13:21.944881Z"
    },
    "papermill": {
     "duration": 19.681793,
     "end_time": "2025-02-27T14:13:21.948706",
     "exception": false,
     "start_time": "2025-02-27T14:13:02.266913",
     "status": "completed"
    },
    "scrolled": true,
    "tags": []
   },
   "outputs": [
    {
     "name": "stdout",
     "output_type": "stream",
     "text": [
      "Processing /kaggle/input/pip-install-lifelines/autograd-1.7.0-py3-none-any.whl\r\n",
      "Requirement already satisfied: numpy in /usr/local/lib/python3.10/dist-packages (from autograd==1.7.0) (1.26.4)\r\n",
      "Requirement already satisfied: mkl_fft in /usr/local/lib/python3.10/dist-packages (from numpy->autograd==1.7.0) (1.3.8)\r\n",
      "Requirement already satisfied: mkl_random in /usr/local/lib/python3.10/dist-packages (from numpy->autograd==1.7.0) (1.2.4)\r\n",
      "Requirement already satisfied: mkl_umath in /usr/local/lib/python3.10/dist-packages (from numpy->autograd==1.7.0) (0.1.1)\r\n",
      "Requirement already satisfied: mkl in /usr/local/lib/python3.10/dist-packages (from numpy->autograd==1.7.0) (2025.0.1)\r\n",
      "Requirement already satisfied: tbb4py in /usr/local/lib/python3.10/dist-packages (from numpy->autograd==1.7.0) (2022.0.0)\r\n",
      "Requirement already satisfied: mkl-service in /usr/local/lib/python3.10/dist-packages (from numpy->autograd==1.7.0) (2.4.1)\r\n",
      "Requirement already satisfied: intel-openmp>=2024 in /usr/local/lib/python3.10/dist-packages (from mkl->numpy->autograd==1.7.0) (2024.2.0)\r\n",
      "Requirement already satisfied: tbb==2022.* in /usr/local/lib/python3.10/dist-packages (from mkl->numpy->autograd==1.7.0) (2022.0.0)\r\n",
      "Requirement already satisfied: tcmlib==1.* in /usr/local/lib/python3.10/dist-packages (from tbb==2022.*->mkl->numpy->autograd==1.7.0) (1.2.0)\r\n",
      "Requirement already satisfied: intel-cmplr-lib-rt in /usr/local/lib/python3.10/dist-packages (from mkl_umath->numpy->autograd==1.7.0) (2024.2.0)\r\n",
      "Requirement already satisfied: intel-cmplr-lib-ur==2024.2.0 in /usr/local/lib/python3.10/dist-packages (from intel-openmp>=2024->mkl->numpy->autograd==1.7.0) (2024.2.0)\r\n",
      "autograd is already installed with the same version as the provided wheel. Use --force-reinstall to force an installation of the wheel.\r\n",
      "Processing /kaggle/input/pip-install-lifelines/autograd-gamma-0.5.0.tar.gz\r\n",
      "  Preparing metadata (setup.py) ... \u001b[?25l\u001b[?25hdone\r\n",
      "Requirement already satisfied: autograd>=1.2.0 in /usr/local/lib/python3.10/dist-packages (from autograd-gamma==0.5.0) (1.7.0)\r\n",
      "Requirement already satisfied: scipy>=1.2.0 in /usr/local/lib/python3.10/dist-packages (from autograd-gamma==0.5.0) (1.13.1)\r\n",
      "Requirement already satisfied: numpy in /usr/local/lib/python3.10/dist-packages (from autograd>=1.2.0->autograd-gamma==0.5.0) (1.26.4)\r\n",
      "Requirement already satisfied: mkl_fft in /usr/local/lib/python3.10/dist-packages (from numpy->autograd>=1.2.0->autograd-gamma==0.5.0) (1.3.8)\r\n",
      "Requirement already satisfied: mkl_random in /usr/local/lib/python3.10/dist-packages (from numpy->autograd>=1.2.0->autograd-gamma==0.5.0) (1.2.4)\r\n",
      "Requirement already satisfied: mkl_umath in /usr/local/lib/python3.10/dist-packages (from numpy->autograd>=1.2.0->autograd-gamma==0.5.0) (0.1.1)\r\n",
      "Requirement already satisfied: mkl in /usr/local/lib/python3.10/dist-packages (from numpy->autograd>=1.2.0->autograd-gamma==0.5.0) (2025.0.1)\r\n",
      "Requirement already satisfied: tbb4py in /usr/local/lib/python3.10/dist-packages (from numpy->autograd>=1.2.0->autograd-gamma==0.5.0) (2022.0.0)\r\n",
      "Requirement already satisfied: mkl-service in /usr/local/lib/python3.10/dist-packages (from numpy->autograd>=1.2.0->autograd-gamma==0.5.0) (2.4.1)\r\n",
      "Requirement already satisfied: intel-openmp>=2024 in /usr/local/lib/python3.10/dist-packages (from mkl->numpy->autograd>=1.2.0->autograd-gamma==0.5.0) (2024.2.0)\r\n",
      "Requirement already satisfied: tbb==2022.* in /usr/local/lib/python3.10/dist-packages (from mkl->numpy->autograd>=1.2.0->autograd-gamma==0.5.0) (2022.0.0)\r\n",
      "Requirement already satisfied: tcmlib==1.* in /usr/local/lib/python3.10/dist-packages (from tbb==2022.*->mkl->numpy->autograd>=1.2.0->autograd-gamma==0.5.0) (1.2.0)\r\n",
      "Requirement already satisfied: intel-cmplr-lib-rt in /usr/local/lib/python3.10/dist-packages (from mkl_umath->numpy->autograd>=1.2.0->autograd-gamma==0.5.0) (2024.2.0)\r\n",
      "Requirement already satisfied: intel-cmplr-lib-ur==2024.2.0 in /usr/local/lib/python3.10/dist-packages (from intel-openmp>=2024->mkl->numpy->autograd>=1.2.0->autograd-gamma==0.5.0) (2024.2.0)\r\n",
      "Building wheels for collected packages: autograd-gamma\r\n",
      "  Building wheel for autograd-gamma (setup.py) ... \u001b[?25l\u001b[?25hdone\r\n",
      "  Created wheel for autograd-gamma: filename=autograd_gamma-0.5.0-py3-none-any.whl size=4031 sha256=4ef89535242c003dd1694de71e07591fdb91f01ee29dd025cc20ff8f9d9292e6\r\n",
      "  Stored in directory: /root/.cache/pip/wheels/6b/b5/e0/4c79e15c0b5f2c15ecf613c720bb20daab20a666eb67135155\r\n",
      "Successfully built autograd-gamma\r\n",
      "Installing collected packages: autograd-gamma\r\n",
      "Successfully installed autograd-gamma-0.5.0\r\n",
      "Processing /kaggle/input/pip-install-lifelines/interface_meta-1.3.0-py3-none-any.whl\r\n",
      "Installing collected packages: interface-meta\r\n",
      "Successfully installed interface-meta-1.3.0\r\n",
      "Processing /kaggle/input/pip-install-lifelines/formulaic-1.0.2-py3-none-any.whl\r\n",
      "Requirement already satisfied: interface-meta>=1.2.0 in /usr/local/lib/python3.10/dist-packages (from formulaic==1.0.2) (1.3.0)\r\n",
      "Requirement already satisfied: numpy>=1.16.5 in /usr/local/lib/python3.10/dist-packages (from formulaic==1.0.2) (1.26.4)\r\n",
      "Requirement already satisfied: pandas>=1.0 in /usr/local/lib/python3.10/dist-packages (from formulaic==1.0.2) (2.2.3)\r\n",
      "Requirement already satisfied: scipy>=1.6 in /usr/local/lib/python3.10/dist-packages (from formulaic==1.0.2) (1.13.1)\r\n",
      "Requirement already satisfied: typing-extensions>=4.2.0 in /usr/local/lib/python3.10/dist-packages (from formulaic==1.0.2) (4.12.2)\r\n",
      "Requirement already satisfied: wrapt>=1.0 in /usr/local/lib/python3.10/dist-packages (from formulaic==1.0.2) (1.17.0)\r\n",
      "Requirement already satisfied: mkl_fft in /usr/local/lib/python3.10/dist-packages (from numpy>=1.16.5->formulaic==1.0.2) (1.3.8)\r\n",
      "Requirement already satisfied: mkl_random in /usr/local/lib/python3.10/dist-packages (from numpy>=1.16.5->formulaic==1.0.2) (1.2.4)\r\n",
      "Requirement already satisfied: mkl_umath in /usr/local/lib/python3.10/dist-packages (from numpy>=1.16.5->formulaic==1.0.2) (0.1.1)\r\n",
      "Requirement already satisfied: mkl in /usr/local/lib/python3.10/dist-packages (from numpy>=1.16.5->formulaic==1.0.2) (2025.0.1)\r\n",
      "Requirement already satisfied: tbb4py in /usr/local/lib/python3.10/dist-packages (from numpy>=1.16.5->formulaic==1.0.2) (2022.0.0)\r\n",
      "Requirement already satisfied: mkl-service in /usr/local/lib/python3.10/dist-packages (from numpy>=1.16.5->formulaic==1.0.2) (2.4.1)\r\n",
      "Requirement already satisfied: python-dateutil>=2.8.2 in /usr/local/lib/python3.10/dist-packages (from pandas>=1.0->formulaic==1.0.2) (2.9.0.post0)\r\n",
      "Requirement already satisfied: pytz>=2020.1 in /usr/local/lib/python3.10/dist-packages (from pandas>=1.0->formulaic==1.0.2) (2025.1)\r\n",
      "Requirement already satisfied: tzdata>=2022.7 in /usr/local/lib/python3.10/dist-packages (from pandas>=1.0->formulaic==1.0.2) (2025.1)\r\n",
      "Requirement already satisfied: six>=1.5 in /usr/local/lib/python3.10/dist-packages (from python-dateutil>=2.8.2->pandas>=1.0->formulaic==1.0.2) (1.17.0)\r\n",
      "Requirement already satisfied: intel-openmp>=2024 in /usr/local/lib/python3.10/dist-packages (from mkl->numpy>=1.16.5->formulaic==1.0.2) (2024.2.0)\r\n",
      "Requirement already satisfied: tbb==2022.* in /usr/local/lib/python3.10/dist-packages (from mkl->numpy>=1.16.5->formulaic==1.0.2) (2022.0.0)\r\n",
      "Requirement already satisfied: tcmlib==1.* in /usr/local/lib/python3.10/dist-packages (from tbb==2022.*->mkl->numpy>=1.16.5->formulaic==1.0.2) (1.2.0)\r\n",
      "Requirement already satisfied: intel-cmplr-lib-rt in /usr/local/lib/python3.10/dist-packages (from mkl_umath->numpy>=1.16.5->formulaic==1.0.2) (2024.2.0)\r\n",
      "Requirement already satisfied: intel-cmplr-lib-ur==2024.2.0 in /usr/local/lib/python3.10/dist-packages (from intel-openmp>=2024->mkl->numpy>=1.16.5->formulaic==1.0.2) (2024.2.0)\r\n",
      "Installing collected packages: formulaic\r\n",
      "Successfully installed formulaic-1.0.2\r\n",
      "Processing /kaggle/input/pip-install-lifelines/lifelines-0.30.0-py3-none-any.whl\r\n",
      "Requirement already satisfied: numpy>=1.14.0 in /usr/local/lib/python3.10/dist-packages (from lifelines==0.30.0) (1.26.4)\r\n",
      "Requirement already satisfied: scipy>=1.7.0 in /usr/local/lib/python3.10/dist-packages (from lifelines==0.30.0) (1.13.1)\r\n",
      "Requirement already satisfied: pandas>=2.1 in /usr/local/lib/python3.10/dist-packages (from lifelines==0.30.0) (2.2.3)\r\n",
      "Requirement already satisfied: matplotlib>=3.0 in /usr/local/lib/python3.10/dist-packages (from lifelines==0.30.0) (3.7.5)\r\n",
      "Requirement already satisfied: autograd>=1.5 in /usr/local/lib/python3.10/dist-packages (from lifelines==0.30.0) (1.7.0)\r\n",
      "Requirement already satisfied: autograd-gamma>=0.3 in /usr/local/lib/python3.10/dist-packages (from lifelines==0.30.0) (0.5.0)\r\n",
      "Requirement already satisfied: formulaic>=0.2.2 in /usr/local/lib/python3.10/dist-packages (from lifelines==0.30.0) (1.0.2)\r\n",
      "Requirement already satisfied: interface-meta>=1.2.0 in /usr/local/lib/python3.10/dist-packages (from formulaic>=0.2.2->lifelines==0.30.0) (1.3.0)\r\n",
      "Requirement already satisfied: typing-extensions>=4.2.0 in /usr/local/lib/python3.10/dist-packages (from formulaic>=0.2.2->lifelines==0.30.0) (4.12.2)\r\n",
      "Requirement already satisfied: wrapt>=1.0 in /usr/local/lib/python3.10/dist-packages (from formulaic>=0.2.2->lifelines==0.30.0) (1.17.0)\r\n",
      "Requirement already satisfied: contourpy>=1.0.1 in /usr/local/lib/python3.10/dist-packages (from matplotlib>=3.0->lifelines==0.30.0) (1.3.1)\r\n",
      "Requirement already satisfied: cycler>=0.10 in /usr/local/lib/python3.10/dist-packages (from matplotlib>=3.0->lifelines==0.30.0) (0.12.1)\r\n",
      "Requirement already satisfied: fonttools>=4.22.0 in /usr/local/lib/python3.10/dist-packages (from matplotlib>=3.0->lifelines==0.30.0) (4.55.3)\r\n",
      "Requirement already satisfied: kiwisolver>=1.0.1 in /usr/local/lib/python3.10/dist-packages (from matplotlib>=3.0->lifelines==0.30.0) (1.4.7)\r\n",
      "Requirement already satisfied: packaging>=20.0 in /usr/local/lib/python3.10/dist-packages (from matplotlib>=3.0->lifelines==0.30.0) (24.2)\r\n",
      "Requirement already satisfied: pillow>=6.2.0 in /usr/local/lib/python3.10/dist-packages (from matplotlib>=3.0->lifelines==0.30.0) (11.0.0)\r\n",
      "Requirement already satisfied: pyparsing>=2.3.1 in /usr/local/lib/python3.10/dist-packages (from matplotlib>=3.0->lifelines==0.30.0) (3.2.0)\r\n",
      "Requirement already satisfied: python-dateutil>=2.7 in /usr/local/lib/python3.10/dist-packages (from matplotlib>=3.0->lifelines==0.30.0) (2.9.0.post0)\r\n",
      "Requirement already satisfied: mkl_fft in /usr/local/lib/python3.10/dist-packages (from numpy>=1.14.0->lifelines==0.30.0) (1.3.8)\r\n",
      "Requirement already satisfied: mkl_random in /usr/local/lib/python3.10/dist-packages (from numpy>=1.14.0->lifelines==0.30.0) (1.2.4)\r\n",
      "Requirement already satisfied: mkl_umath in /usr/local/lib/python3.10/dist-packages (from numpy>=1.14.0->lifelines==0.30.0) (0.1.1)\r\n",
      "Requirement already satisfied: mkl in /usr/local/lib/python3.10/dist-packages (from numpy>=1.14.0->lifelines==0.30.0) (2025.0.1)\r\n",
      "Requirement already satisfied: tbb4py in /usr/local/lib/python3.10/dist-packages (from numpy>=1.14.0->lifelines==0.30.0) (2022.0.0)\r\n",
      "Requirement already satisfied: mkl-service in /usr/local/lib/python3.10/dist-packages (from numpy>=1.14.0->lifelines==0.30.0) (2.4.1)\r\n",
      "Requirement already satisfied: pytz>=2020.1 in /usr/local/lib/python3.10/dist-packages (from pandas>=2.1->lifelines==0.30.0) (2025.1)\r\n",
      "Requirement already satisfied: tzdata>=2022.7 in /usr/local/lib/python3.10/dist-packages (from pandas>=2.1->lifelines==0.30.0) (2025.1)\r\n",
      "Requirement already satisfied: six>=1.5 in /usr/local/lib/python3.10/dist-packages (from python-dateutil>=2.7->matplotlib>=3.0->lifelines==0.30.0) (1.17.0)\r\n",
      "Requirement already satisfied: intel-openmp>=2024 in /usr/local/lib/python3.10/dist-packages (from mkl->numpy>=1.14.0->lifelines==0.30.0) (2024.2.0)\r\n",
      "Requirement already satisfied: tbb==2022.* in /usr/local/lib/python3.10/dist-packages (from mkl->numpy>=1.14.0->lifelines==0.30.0) (2022.0.0)\r\n",
      "Requirement already satisfied: tcmlib==1.* in /usr/local/lib/python3.10/dist-packages (from tbb==2022.*->mkl->numpy>=1.14.0->lifelines==0.30.0) (1.2.0)\r\n",
      "Requirement already satisfied: intel-cmplr-lib-rt in /usr/local/lib/python3.10/dist-packages (from mkl_umath->numpy>=1.14.0->lifelines==0.30.0) (2024.2.0)\r\n",
      "Requirement already satisfied: intel-cmplr-lib-ur==2024.2.0 in /usr/local/lib/python3.10/dist-packages (from intel-openmp>=2024->mkl->numpy>=1.14.0->lifelines==0.30.0) (2024.2.0)\r\n",
      "Installing collected packages: lifelines\r\n",
      "Successfully installed lifelines-0.30.0\r\n"
     ]
    }
   ],
   "source": [
    "!pip install /kaggle/input/pip-install-lifelines/autograd-1.7.0-py3-none-any.whl\n",
    "!pip install /kaggle/input/pip-install-lifelines/autograd-gamma-0.5.0.tar.gz\n",
    "!pip install /kaggle/input/pip-install-lifelines/interface_meta-1.3.0-py3-none-any.whl\n",
    "!pip install /kaggle/input/pip-install-lifelines/formulaic-1.0.2-py3-none-any.whl\n",
    "!pip install /kaggle/input/pip-install-lifelines/lifelines-0.30.0-py3-none-any.whl"
   ]
  },
  {
   "cell_type": "code",
   "execution_count": 2,
   "id": "0ba96c7c",
   "metadata": {
    "execution": {
     "iopub.execute_input": "2025-02-27T14:13:21.960751Z",
     "iopub.status.busy": "2025-02-27T14:13:21.960457Z",
     "iopub.status.idle": "2025-02-27T14:13:24.456682Z",
     "shell.execute_reply": "2025-02-27T14:13:24.455973Z"
    },
    "papermill": {
     "duration": 2.503679,
     "end_time": "2025-02-27T14:13:24.458263",
     "exception": false,
     "start_time": "2025-02-27T14:13:21.954584",
     "status": "completed"
    },
    "tags": []
   },
   "outputs": [],
   "source": [
    "import warnings\n",
    "warnings.simplefilter(action='ignore', category=FutureWarning)\n",
    "\n",
    "import numpy as np \n",
    "import pandas as pd \n",
    "\n",
    "import optuna\n",
    "optuna.logging.set_verbosity(optuna.logging.WARNING) \n",
    "\n",
    "import xgboost as xgb \n",
    "\n",
    "from lifelines import KaplanMeierFitter\n",
    "\n",
    "from sklearn.metrics import mean_absolute_error, mean_squared_error, accuracy_score\n",
    "from sklearn.model_selection import train_test_split\n",
    "from sklearn.preprocessing import LabelEncoder, StandardScaler\n",
    "\n",
    "import matplotlib.pyplot as plt\n",
    "\n",
    "import os\n",
    "import random\n",
    "import pickle"
   ]
  },
  {
   "cell_type": "code",
   "execution_count": 3,
   "id": "5fa12658",
   "metadata": {
    "execution": {
     "iopub.execute_input": "2025-02-27T14:13:24.468477Z",
     "iopub.status.busy": "2025-02-27T14:13:24.468137Z",
     "iopub.status.idle": "2025-02-27T14:13:24.471587Z",
     "shell.execute_reply": "2025-02-27T14:13:24.470990Z"
    },
    "papermill": {
     "duration": 0.009709,
     "end_time": "2025-02-27T14:13:24.472828",
     "exception": false,
     "start_time": "2025-02-27T14:13:24.463119",
     "status": "completed"
    },
    "tags": []
   },
   "outputs": [],
   "source": [
    "def transform_survival_probability(df, time_col='efs_time', event_col='efs'):\n",
    "    kmf = KaplanMeierFitter()\n",
    "    kmf.fit(df[time_col], df[event_col])\n",
    "    y = kmf.survival_function_at_times(df[time_col]).values\n",
    "    return y"
   ]
  },
  {
   "cell_type": "code",
   "execution_count": 4,
   "id": "0b4d3da2",
   "metadata": {
    "execution": {
     "iopub.execute_input": "2025-02-27T14:13:24.482024Z",
     "iopub.status.busy": "2025-02-27T14:13:24.481784Z",
     "iopub.status.idle": "2025-02-27T14:13:24.491225Z",
     "shell.execute_reply": "2025-02-27T14:13:24.490621Z"
    },
    "papermill": {
     "duration": 0.015357,
     "end_time": "2025-02-27T14:13:24.492475",
     "exception": false,
     "start_time": "2025-02-27T14:13:24.477118",
     "status": "completed"
    },
    "tags": []
   },
   "outputs": [],
   "source": [
    "class DataTransformation:\n",
    "    \"\"\"\n",
    "    A class for transforming and preprocessing data for machine learning models.\n",
    "    \"\"\"\n",
    "    def __init__(self, data_train: pd.DataFrame, data_test: pd.DataFrame):\n",
    "        \"\"\"\n",
    "        Initializes the DataTransformation class.\n",
    "\n",
    "        Args:\n",
    "            data_train (pd.DataFrame): The training data.\n",
    "            data_test (pd.DataFrame): The testing data.\n",
    "        \"\"\"\n",
    "        self.data_train = data_train.copy()\n",
    "        self.data_test = data_test.copy()\n",
    "    \n",
    "    def numeric_transform(self):\n",
    "        \"\"\"\n",
    "        Transforms numeric columns by filling missing values with the median,\n",
    "        casting to appropriate data types, and applying StandardScaler.\n",
    "        \"\"\"\n",
    "        _num_col = self.data_train.select_dtypes(include=['int', 'float']).columns\n",
    "        \n",
    "        for col in _num_col:\n",
    "            m_v_1 = self.data_train[col].median()\n",
    "\n",
    "            self.data_train[col] = self.data_train[col].fillna(m_v_1)\n",
    "            self.data_test[col] = self.data_test[col].fillna(m_v_1)\n",
    "\n",
    "            if self.data_train[col].dtype == 'int64':\n",
    "                self.data_train[col] = self.data_train[col].astype('int32')\n",
    "                self.data_test[col] = self.data_test[col].astype('int32')\n",
    "            else:\n",
    "                self.data_train[col] = self.data_train[col].astype('float32')\n",
    "                self.data_test[col] = self.data_test[col].astype('float32')\n",
    "        \n",
    "        scaler = StandardScaler()\n",
    "        self.data_train[_num_col] = scaler.fit_transform(self.data_train[_num_col])\n",
    "        self.data_test[_num_col] = scaler.fit_transform(self.data_test[_num_col])\n",
    "\n",
    "    def categoric_transform(self):\n",
    "        \"\"\"\n",
    "        Transforms categorical columns by filling missing values with 'Missing',\n",
    "        applying LabelEncoder.\n",
    "        \"\"\"\n",
    "        _cat_col = self.data_train.select_dtypes(include=['object', 'category']).columns\n",
    "\n",
    "        for col in _cat_col:\n",
    "            le = LabelEncoder()\n",
    "            self.data_train[col] = self.data_train[col].fillna('Missing')\n",
    "            self.data_test[col] = self.data_test[col].fillna('Missing')\n",
    "            self.data_train[col] = le.fit_transform(self.data_train[col])\n",
    "            self.data_test[col] = le.transform(self.data_test[col])\n",
    "\n",
    "    \n",
    "    def _transformation_values(self):\n",
    "        \"\"\"\n",
    "        Applies numeric and categorical transformations to the data.\n",
    "\n",
    "        Returns:\n",
    "            tuple: A tuple containing the transformed training data,\n",
    "                   transformed testing data.\n",
    "        \"\"\"\n",
    "        self.numeric_transform()\n",
    "        self.categoric_transform()\n",
    "        \n",
    "        return (\n",
    "            self.data_train.copy(),\n",
    "            self.data_test.copy()\n",
    "        )"
   ]
  },
  {
   "cell_type": "code",
   "execution_count": 5,
   "id": "1ce1eded",
   "metadata": {
    "execution": {
     "iopub.execute_input": "2025-02-27T14:13:24.501957Z",
     "iopub.status.busy": "2025-02-27T14:13:24.501740Z",
     "iopub.status.idle": "2025-02-27T14:13:24.521379Z",
     "shell.execute_reply": "2025-02-27T14:13:24.520715Z"
    },
    "papermill": {
     "duration": 0.026066,
     "end_time": "2025-02-27T14:13:24.522734",
     "exception": false,
     "start_time": "2025-02-27T14:13:24.496668",
     "status": "completed"
    },
    "tags": []
   },
   "outputs": [],
   "source": [
    "class XGBoostModel:\n",
    "    def __init__(self, objective='reg:squarederror', eval_metric='mae', n_trials=100):\n",
    "        \"\"\"\n",
    "        XGBoost model class.\n",
    "\n",
    "        Args:\n",
    "            objective (str): XGBoost objective function. Default: 'reg:squarederror'.\n",
    "            eval_metric (str): Evaluation metric. Default: 'mae'.\n",
    "            n_trials (int): Number of trials for Optuna optimization. Default: 100.\n",
    "        \"\"\"\n",
    "        self.objective = objective\n",
    "        self.eval_metric = eval_metric\n",
    "        self.n_trials = n_trials\n",
    "        self.best_params = None\n",
    "        self.model = None\n",
    "        self.history = None  \n",
    "        self.best_iteration = None\n",
    "\n",
    "    def objective_function(self, trial, X_train, y_train, X_val, y_val):\n",
    "        \"\"\"\n",
    "        Objective function for Optuna optimization.\n",
    "\n",
    "        Args:\n",
    "            trial (optuna.trial.Trial): Optuna trial.\n",
    "            X_train (pd.DataFrame): Training data features.\n",
    "            y_train (pd.Series): Training data target variable.\n",
    "            X_val (pd.DataFrame): Validation data features.\n",
    "            y_val (pd.Series): Validation data target variable.\n",
    "\n",
    "        Returns:\n",
    "            float: Evaluation metric score on the validation data.\n",
    "        \"\"\"\n",
    "        params = {\n",
    "            'objective': self.objective,\n",
    "            'eval_metric': self.eval_metric,\n",
    "            'device': 'cuda',\n",
    "            'booster': trial.suggest_categorical('booster', ['gbtree', 'gblinear', 'dart']),\n",
    "            'lambda': trial.suggest_float('lambda', 1e-8, 1.0, log=True),\n",
    "            'alpha': trial.suggest_float('alpha', 1e-8, 1.0, log=True),\n",
    "            'learning_rate': trial.suggest_float('learning_rate', 0.005, 0.1),\n",
    "            'max_depth': trial.suggest_int('max_depth', 3, 10),\n",
    "            'n_estimators': trial.suggest_int('n_estimators', 100, 1000),\n",
    "            'subsample': trial.suggest_float('subsample', 0.6, 1.0),\n",
    "            'colsample_bytree': trial.suggest_float('colsample_bytree', 0.6, 1.0),\n",
    "            'colsample_bylevel': trial.suggest_float('colsample_bylevel', 0.6, 1.0),\n",
    "            'min_child_weight': trial.suggest_int('min_child_weight', 1, 10),\n",
    "            'gamma': trial.suggest_float('gamma', 1e-8, 1.0, log=True),\n",
    "            'seed': 42\n",
    "        }\n",
    "\n",
    "        if params['booster'] in ['gbtree', 'dart']:\n",
    "            params['grow_policy'] = trial.suggest_categorical('grow_policy', ['depthwise', 'lossguide'])\n",
    "\n",
    "        model = xgb.XGBRegressor(**params)\n",
    "        model.fit(X_train, y_train,\n",
    "                  eval_set=[(X_val, y_val)],\n",
    "                  verbose=False)\n",
    "\n",
    "        preds = model.predict(X_val)\n",
    "\n",
    "        if self.eval_metric == 'mae':\n",
    "            score = mean_absolute_error(y_val, preds)\n",
    "        elif self.eval_metric == 'rmse':\n",
    "            score = np.sqrt(mean_squared_error(y_val, preds))\n",
    "        elif self.eval_metric == 'auc':  \n",
    "            score = accuracy_score(y_val, np.round(preds))  \n",
    "        else:\n",
    "            raise ValueError(f\"Unknown evaluation metric: {self.eval_metric}\")\n",
    "\n",
    "        return score\n",
    "\n",
    "    def optimize_hyperparameters(self, X_train, y_train, X_val, y_val):\n",
    "        \"\"\"\n",
    "        Optimizes hyperparameters using Optuna.\n",
    "\n",
    "        Args:\n",
    "            X_train (pd.DataFrame): Training data features.\n",
    "            y_train (pd.Series): Training data target variable.\n",
    "            X_val (pd.DataFrame): Validation data features.\n",
    "            y_val (pd.Series): Validation data target variable.\n",
    "        \"\"\"\n",
    "        study = optuna.create_study(direction='minimize')  \n",
    "        study.optimize(lambda trial: self.objective_function(trial, X_train, y_train, X_val, y_val),\n",
    "                       n_trials=self.n_trials)\n",
    "\n",
    "        self.best_params = study.best_params\n",
    "        print(f\"Best parameters: {self.best_params}\")\n",
    "\n",
    "    def train(self, X_train, y_train, X_val=None, y_val=None):\n",
    "        \"\"\"\n",
    "        Trains the XGBoost model with manual early stopping.\n",
    "\n",
    "        Args:\n",
    "            X_train (pd.DataFrame): Training data features.\n",
    "            y_train (pd.Series): Training data target variable.\n",
    "            X_val (pd.DataFrame, optional): Validation data features. Default: None.\n",
    "            y_val (pd.Series, optional): Validation data target variable. Default: None.\n",
    "        \"\"\"\n",
    "        if self.best_params is None:\n",
    "            raise ValueError(\"You must optimize hyperparameters first.\")\n",
    "\n",
    "        params = self.best_params.copy()\n",
    "        params['objective'] = self.objective\n",
    "        params['eval_metric'] = self.eval_metric\n",
    "        params['seed'] = 42\n",
    "\n",
    "        self.model = xgb.XGBRegressor(**params)\n",
    "\n",
    "        if X_val is not None and y_val is not None:\n",
    "            eval_set = [(X_val, y_val)]\n",
    "\n",
    "            N_EARLY_STOPPING = 50\n",
    "            best_score = float('inf') if self.eval_metric in ['mae', 'rmse'] else float('-inf')\n",
    "            best_iteration = 0\n",
    "            best_model = None\n",
    "\n",
    "            self.model.fit(X_train, y_train, eval_set=eval_set, verbose=False)\n",
    "            self.history = self.model.evals_result()\n",
    "\n",
    "            print(\"Structure of self.history:\", self.history.keys())\n",
    "\n",
    "            if 'validation_0' in self.history and self.eval_metric in self.history['validation_0']:\n",
    "                metric_key = self.eval_metric\n",
    "                validation_key = 'validation_0'\n",
    "            elif 0 in self.history and self.eval_metric in self.history[0]:\n",
    "                metric_key = self.eval_metric\n",
    "                validation_key = 0\n",
    "            else:\n",
    "                raise ValueError(\"Could not determine the structure of the training history.\")\n",
    "\n",
    "            for i in range(len(self.history[validation_key][metric_key])):\n",
    "                score = self.history[validation_key][metric_key][i]\n",
    "\n",
    "                if self.eval_metric in ['mae', 'rmse']:\n",
    "                    if score < best_score:\n",
    "                        best_score = score\n",
    "                        best_iteration = i\n",
    "                        best_model = pickle.loads(pickle.dumps(self.model))  \n",
    "                    elif i - best_iteration > N_EARLY_STOPPING:\n",
    "                        print(f\"Early stopping at iteration {i}!\")\n",
    "                        break\n",
    "                else:  \n",
    "                    if score > best_score:\n",
    "                        best_score = score\n",
    "                        best_iteration = i\n",
    "                        best_model = pickle.loads(pickle.dumps(self.model))  \n",
    "                    elif i - best_iteration > N_EARLY_STOPPING:\n",
    "                        print(f\"Early stopping at iteration {i}!\")\n",
    "                        break\n",
    "\n",
    "            if best_model is not None:\n",
    "                self.model = best_model\n",
    "                self.best_iteration = best_iteration\n",
    "                print(f\"Best model from iteration {best_iteration} used.\")\n",
    "            else:\n",
    "                self.best_iteration = len(self.history[validation_key][metric_key]) - 1\n",
    "                print(\"No improvement during training, using the last model.\")\n",
    "        else:\n",
    "            self.model.fit(X_train, y_train)\n",
    "            self.history = None  \n",
    "            self.best_iteration = None\n",
    "\n",
    "    def plot_training_history(self):\n",
    "        \"\"\"\n",
    "        Visualizes the training history.\n",
    "        \"\"\"\n",
    "        if self.history is None:\n",
    "            print(\"Training history is not available. Please train with validation data.\")\n",
    "            return\n",
    "\n",
    "        if 'validation_0' in self.history and self.eval_metric in self.history['validation_0']:\n",
    "            metric_key = self.eval_metric\n",
    "            validation_key = 'validation_0'\n",
    "        elif 0 in self.history and self.eval_metric in self.history[0]:\n",
    "            metric_key = self.eval_metric\n",
    "            validation_key = 0\n",
    "        else:\n",
    "            print(\"Could not determine the structure of the training history for plotting.\")\n",
    "            return\n",
    "\n",
    "        plt.figure(figsize=(10, 6))\n",
    "        plt.plot(self.history[validation_key][metric_key], label=f'Validation ({self.eval_metric})')\n",
    "        if self.best_iteration is not None:\n",
    "            plt.axvline(self.best_iteration, color='red', linestyle='--', label=f'Best Iteration ({self.best_iteration})')\n",
    "        plt.xlabel('Training Round')\n",
    "        plt.ylabel(self.eval_metric.upper())\n",
    "        plt.title(f'XGBoost Training History ({self.eval_metric})')\n",
    "        plt.legend()\n",
    "        plt.grid(True)\n",
    "        plt.show()\n",
    "\n",
    "    def predict(self, X):\n",
    "        \"\"\"\n",
    "        Makes predictions using the model.\n",
    "\n",
    "        Args:\n",
    "            X (pd.DataFrame): Data features to predict.\n",
    "\n",
    "        Returns:\n",
    "            np.ndarray: Prediction results.\n",
    "        \"\"\"\n",
    "        if self.model is None:\n",
    "            raise ValueError(\"You must train the model first.\")\n",
    "        return self.model.predict(X)\n",
    "\n",
    "    def save_model(self, filepath):\n",
    "        \"\"\"\n",
    "        Saves the model to the specified file.\n",
    "\n",
    "        Args:\n",
    "            filepath (str): File path to save the model.\n",
    "        \"\"\"\n",
    "        with open(filepath, 'wb') as f:\n",
    "            pickle.dump(self.model, f)\n",
    "        print(f\"Model saved to: {filepath}\")\n",
    "\n",
    "    def load_model(self, filepath):\n",
    "        \"\"\"\n",
    "        Loads the model from the specified file.\n",
    "\n",
    "        Args:\n",
    "            filepath (str): File path to load the model from.\n",
    "        \"\"\"\n",
    "        if not os.path.exists(filepath):\n",
    "            raise FileNotFoundError(f\"Model file not found: {filepath}\")\n",
    "\n",
    "        with open(filepath, 'rb') as f:\n",
    "            self.model = pickle.load(f)\n",
    "        print(f\"Model loaded from: {filepath}\")\n",
    "\n",
    "    def evaluate(self, X_test, y_test):\n",
    "        \"\"\"\n",
    "        Evaluates the model on the test data.\n",
    "\n",
    "        Args:\n",
    "            X_test (pd.DataFrame): Test data features.\n",
    "            y_test (pd.Series): Test data target variable.\n",
    "\n",
    "        Returns:\n",
    "            float: Evaluation metric score on the test data.\n",
    "        \"\"\"\n",
    "        if self.model is None:\n",
    "            raise ValueError(\"You must train the model first.\")\n",
    "\n",
    "        preds = self.predict(X_test)\n",
    "        if self.eval_metric == 'mae':\n",
    "            score = mean_absolute_error(y_test, preds)\n",
    "        elif self.eval_metric == 'rmse':\n",
    "            score = np.sqrt(mean_squared_error(y_test, preds))\n",
    "        elif self.eval_metric == 'auc':  # Example AUC, adjust as needed\n",
    "            score = accuracy_score(y_test, np.round(preds))  # Convert to binary for AUC\n",
    "        else:\n",
    "            raise ValueError(f\"Unknown evaluation metric: {self.eval_metric}\")\n",
    "        print(f\"Test data {self.eval_metric}: {score}\")\n",
    "        return score"
   ]
  },
  {
   "cell_type": "code",
   "execution_count": 6,
   "id": "b7c827f6",
   "metadata": {
    "execution": {
     "iopub.execute_input": "2025-02-27T14:13:24.533227Z",
     "iopub.status.busy": "2025-02-27T14:13:24.533026Z",
     "iopub.status.idle": "2025-02-27T14:13:24.536047Z",
     "shell.execute_reply": "2025-02-27T14:13:24.535438Z"
    },
    "papermill": {
     "duration": 0.009495,
     "end_time": "2025-02-27T14:13:24.537196",
     "exception": false,
     "start_time": "2025-02-27T14:13:24.527701",
     "status": "completed"
    },
    "tags": []
   },
   "outputs": [],
   "source": [
    "def set_seed(seed=42):\n",
    "    random.seed(seed)\n",
    "    np.random.seed(seed)\n",
    "    \n",
    "set_seed(42)"
   ]
  },
  {
   "cell_type": "code",
   "execution_count": 7,
   "id": "27a4e87e",
   "metadata": {
    "execution": {
     "iopub.execute_input": "2025-02-27T14:13:24.546567Z",
     "iopub.status.busy": "2025-02-27T14:13:24.546360Z",
     "iopub.status.idle": "2025-02-27T14:13:24.884341Z",
     "shell.execute_reply": "2025-02-27T14:13:24.883646Z"
    },
    "papermill": {
     "duration": 0.34431,
     "end_time": "2025-02-27T14:13:24.885804",
     "exception": false,
     "start_time": "2025-02-27T14:13:24.541494",
     "status": "completed"
    },
    "tags": []
   },
   "outputs": [],
   "source": [
    "df_train = pd.read_csv('/kaggle/input/equity-post-HCT-survival-predictions/train.csv')\n",
    "df_test = pd.read_csv('/kaggle/input/equity-post-HCT-survival-predictions/test.csv')\n",
    "\n",
    "df_tr_y_time = df_train[['efs', 'efs_time']]\n",
    "df_train = df_train.drop(columns=['ID','efs','efs_time'])"
   ]
  },
  {
   "cell_type": "code",
   "execution_count": 8,
   "id": "e0d380dc",
   "metadata": {
    "execution": {
     "iopub.execute_input": "2025-02-27T14:13:24.895706Z",
     "iopub.status.busy": "2025-02-27T14:13:24.895480Z",
     "iopub.status.idle": "2025-02-27T14:13:24.965851Z",
     "shell.execute_reply": "2025-02-27T14:13:24.965211Z"
    },
    "papermill": {
     "duration": 0.076795,
     "end_time": "2025-02-27T14:13:24.967354",
     "exception": false,
     "start_time": "2025-02-27T14:13:24.890559",
     "status": "completed"
    },
    "tags": []
   },
   "outputs": [],
   "source": [
    "df_tr_y_time['target'] = transform_survival_probability(df_tr_y_time, time_col='efs_time', event_col='efs')\n",
    "tr_y = df_tr_y_time.copy().drop(columns=['efs', 'efs_time'])"
   ]
  },
  {
   "cell_type": "code",
   "execution_count": 9,
   "id": "ce9926d1",
   "metadata": {
    "execution": {
     "iopub.execute_input": "2025-02-27T14:13:24.976889Z",
     "iopub.status.busy": "2025-02-27T14:13:24.976652Z",
     "iopub.status.idle": "2025-02-27T14:13:25.313480Z",
     "shell.execute_reply": "2025-02-27T14:13:25.312288Z"
    },
    "papermill": {
     "duration": 0.34363,
     "end_time": "2025-02-27T14:13:25.315425",
     "exception": false,
     "start_time": "2025-02-27T14:13:24.971795",
     "status": "completed"
    },
    "tags": []
   },
   "outputs": [],
   "source": [
    "TF = DataTransformation(df_train, df_test)\n",
    "data_train, data_test = TF._transformation_values()"
   ]
  },
  {
   "cell_type": "code",
   "execution_count": 10,
   "id": "e783c799",
   "metadata": {
    "execution": {
     "iopub.execute_input": "2025-02-27T14:13:25.327666Z",
     "iopub.status.busy": "2025-02-27T14:13:25.327412Z",
     "iopub.status.idle": "2025-02-27T14:13:25.343736Z",
     "shell.execute_reply": "2025-02-27T14:13:25.342869Z"
    },
    "papermill": {
     "duration": 0.023093,
     "end_time": "2025-02-27T14:13:25.345163",
     "exception": false,
     "start_time": "2025-02-27T14:13:25.322070",
     "status": "completed"
    },
    "tags": []
   },
   "outputs": [],
   "source": [
    "X_train, X_other, y_train, y_other = train_test_split(data_train, tr_y, test_size=0.2, random_state=42)\n",
    "X_val, X_test, y_val, y_test = train_test_split(X_other, y_other, test_size=0.25, random_state=42)"
   ]
  },
  {
   "cell_type": "code",
   "execution_count": 11,
   "id": "6e4f07b1",
   "metadata": {
    "execution": {
     "iopub.execute_input": "2025-02-27T14:13:25.354654Z",
     "iopub.status.busy": "2025-02-27T14:13:25.354437Z",
     "iopub.status.idle": "2025-02-27T14:46:38.855221Z",
     "shell.execute_reply": "2025-02-27T14:46:38.854262Z"
    },
    "papermill": {
     "duration": 1993.512184,
     "end_time": "2025-02-27T14:46:38.861734",
     "exception": false,
     "start_time": "2025-02-27T14:13:25.349550",
     "status": "completed"
    },
    "scrolled": true,
    "tags": []
   },
   "outputs": [
    {
     "name": "stderr",
     "output_type": "stream",
     "text": [
      "/usr/local/lib/python3.10/dist-packages/xgboost/core.py:160: UserWarning: [14:13:25] WARNING: /workspace/src/learner.cc:742: \n",
      "Parameters: { \"colsample_bylevel\", \"colsample_bytree\", \"gamma\", \"max_depth\", \"min_child_weight\", \"subsample\" } are not used.\n",
      "\n",
      "  warnings.warn(smsg, UserWarning)\n",
      "/usr/local/lib/python3.10/dist-packages/xgboost/core.py:160: UserWarning: [14:13:31] WARNING: /workspace/src/common/error_msg.cc:58: Falling back to prediction using DMatrix due to mismatched devices. This might lead to higher memory usage and slower performance. XGBoost is running on: cuda:0, while the input data is on: cpu.\n",
      "Potential solutions:\n",
      "- Use a data structure that matches the device ordinal in the booster.\n",
      "- Set the device for booster before call to inplace_predict.\n",
      "\n",
      "This warning will only be shown once.\n",
      "\n",
      "  warnings.warn(smsg, UserWarning)\n",
      "/usr/local/lib/python3.10/dist-packages/xgboost/core.py:160: UserWarning: [14:14:20] WARNING: /workspace/src/learner.cc:742: \n",
      "Parameters: { \"colsample_bylevel\", \"colsample_bytree\", \"gamma\", \"max_depth\", \"min_child_weight\", \"subsample\" } are not used.\n",
      "\n",
      "  warnings.warn(smsg, UserWarning)\n",
      "/usr/local/lib/python3.10/dist-packages/xgboost/core.py:160: UserWarning: [14:14:22] WARNING: /workspace/src/learner.cc:742: \n",
      "Parameters: { \"colsample_bylevel\", \"colsample_bytree\", \"gamma\", \"max_depth\", \"min_child_weight\", \"subsample\" } are not used.\n",
      "\n",
      "  warnings.warn(smsg, UserWarning)\n",
      "/usr/local/lib/python3.10/dist-packages/xgboost/core.py:160: UserWarning: [14:14:26] WARNING: /workspace/src/learner.cc:742: \n",
      "Parameters: { \"colsample_bylevel\", \"colsample_bytree\", \"gamma\", \"max_depth\", \"min_child_weight\", \"subsample\" } are not used.\n",
      "\n",
      "  warnings.warn(smsg, UserWarning)\n",
      "/usr/local/lib/python3.10/dist-packages/xgboost/core.py:160: UserWarning: [14:14:26] WARNING: /workspace/src/learner.cc:742: \n",
      "Parameters: { \"colsample_bylevel\", \"colsample_bytree\", \"gamma\", \"max_depth\", \"min_child_weight\", \"subsample\" } are not used.\n",
      "\n",
      "  warnings.warn(smsg, UserWarning)\n",
      "/usr/local/lib/python3.10/dist-packages/xgboost/core.py:160: UserWarning: [14:14:30] WARNING: /workspace/src/learner.cc:742: \n",
      "Parameters: { \"colsample_bylevel\", \"colsample_bytree\", \"gamma\", \"max_depth\", \"min_child_weight\", \"subsample\" } are not used.\n",
      "\n",
      "  warnings.warn(smsg, UserWarning)\n",
      "/usr/local/lib/python3.10/dist-packages/xgboost/core.py:160: UserWarning: [14:35:21] WARNING: /workspace/src/learner.cc:742: \n",
      "Parameters: { \"colsample_bylevel\", \"colsample_bytree\", \"gamma\", \"max_depth\", \"min_child_weight\", \"subsample\" } are not used.\n",
      "\n",
      "  warnings.warn(smsg, UserWarning)\n",
      "/usr/local/lib/python3.10/dist-packages/xgboost/core.py:160: UserWarning: [14:37:02] WARNING: /workspace/src/learner.cc:742: \n",
      "Parameters: { \"colsample_bylevel\", \"colsample_bytree\", \"gamma\", \"max_depth\", \"min_child_weight\", \"subsample\" } are not used.\n",
      "\n",
      "  warnings.warn(smsg, UserWarning)\n",
      "/usr/local/lib/python3.10/dist-packages/xgboost/core.py:160: UserWarning: [14:42:20] WARNING: /workspace/src/learner.cc:742: \n",
      "Parameters: { \"colsample_bylevel\", \"colsample_bytree\", \"gamma\", \"max_depth\", \"min_child_weight\", \"subsample\" } are not used.\n",
      "\n",
      "  warnings.warn(smsg, UserWarning)\n"
     ]
    },
    {
     "name": "stdout",
     "output_type": "stream",
     "text": [
      "Best parameters: {'booster': 'dart', 'lambda': 0.1538300956869773, 'alpha': 1.4887837016666831e-05, 'learning_rate': 0.09268770983220953, 'max_depth': 3, 'n_estimators': 591, 'subsample': 0.9427149986898793, 'colsample_bytree': 0.8123279882586707, 'colsample_bylevel': 0.9632016749763558, 'min_child_weight': 2, 'gamma': 6.292989187378552e-07, 'grow_policy': 'depthwise'}\n",
      "CPU times: user 34min 31s, sys: 1.54 s, total: 34min 32s\n",
      "Wall time: 33min 13s\n"
     ]
    }
   ],
   "source": [
    "%%time\n",
    "\n",
    "model_rmse = XGBoostModel(objective='reg:squarederror', eval_metric='rmse', n_trials=50)\n",
    "model_rmse.optimize_hyperparameters(X_train, y_train, X_val, y_val)"
   ]
  },
  {
   "cell_type": "code",
   "execution_count": 12,
   "id": "9529413f",
   "metadata": {
    "execution": {
     "iopub.execute_input": "2025-02-27T14:46:38.872539Z",
     "iopub.status.busy": "2025-02-27T14:46:38.872285Z",
     "iopub.status.idle": "2025-02-27T15:09:16.511802Z",
     "shell.execute_reply": "2025-02-27T15:09:16.510884Z"
    },
    "papermill": {
     "duration": 1357.646897,
     "end_time": "2025-02-27T15:09:16.513663",
     "exception": false,
     "start_time": "2025-02-27T14:46:38.866766",
     "status": "completed"
    },
    "tags": []
   },
   "outputs": [
    {
     "name": "stdout",
     "output_type": "stream",
     "text": [
      "Structure of self.history: dict_keys(['validation_0'])\n",
      "Best model from iteration 557 used.\n"
     ]
    },
    {
     "data": {
      "image/png": "[encoded data removed]",
      "text/plain": [
       "<Figure size 1000x600 with 1 Axes>"
      ]
     },
     "metadata": {},
     "output_type": "display_data"
    },
    {
     "name": "stdout",
     "output_type": "stream",
     "text": [
      "Test data rmse: 0.16176306588083278\n",
      "Model saved to: /kaggle/working/xgboost_model_rmse.pkl\n"
     ]
    }
   ],
   "source": [
    "model_rmse.train(X_train, y_train, X_val, y_val)\n",
    "model_rmse.plot_training_history()\n",
    "model_rmse.evaluate(X_test, y_test)\n",
    "model_rmse.save_model('/kaggle/working/xgboost_model_rmse.pkl')"
   ]
  },
  {
   "cell_type": "code",
   "execution_count": 13,
   "id": "b5ec2ccd",
   "metadata": {
    "execution": {
     "iopub.execute_input": "2025-02-27T15:09:16.527710Z",
     "iopub.status.busy": "2025-02-27T15:09:16.527468Z",
     "iopub.status.idle": "2025-02-27T15:09:16.531690Z",
     "shell.execute_reply": "2025-02-27T15:09:16.531007Z"
    },
    "papermill": {
     "duration": 0.01195,
     "end_time": "2025-02-27T15:09:16.532962",
     "exception": false,
     "start_time": "2025-02-27T15:09:16.521012",
     "status": "completed"
    },
    "tags": []
   },
   "outputs": [],
   "source": [
    "data_test_id = data_test['ID']\n",
    "data_test = data_test.drop(columns=['ID'])"
   ]
  },
  {
   "cell_type": "code",
   "execution_count": 14,
   "id": "e599e9af",
   "metadata": {
    "execution": {
     "iopub.execute_input": "2025-02-27T15:09:16.545463Z",
     "iopub.status.busy": "2025-02-27T15:09:16.545243Z",
     "iopub.status.idle": "2025-02-27T15:09:16.576812Z",
     "shell.execute_reply": "2025-02-27T15:09:16.576010Z"
    },
    "papermill": {
     "duration": 0.03962,
     "end_time": "2025-02-27T15:09:16.578453",
     "exception": false,
     "start_time": "2025-02-27T15:09:16.538833",
     "status": "completed"
    },
    "tags": []
   },
   "outputs": [
    {
     "name": "stdout",
     "output_type": "stream",
     "text": [
      "Model loaded from: /kaggle/working/xgboost_model_rmse.pkl\n",
      "Predictions: [0.54832447 0.65658593 0.5233224 ]\n"
     ]
    }
   ],
   "source": [
    "loaded_model = XGBoostModel() \n",
    "loaded_model.load_model('/kaggle/working/xgboost_model_rmse.pkl')\n",
    "predictions = loaded_model.predict(data_test)\n",
    "print(\"Predictions:\",predictions) "
   ]
  },
  {
   "cell_type": "code",
   "execution_count": 15,
   "id": "139fe3d3",
   "metadata": {
    "execution": {
     "iopub.execute_input": "2025-02-27T15:09:16.595985Z",
     "iopub.status.busy": "2025-02-27T15:09:16.595709Z",
     "iopub.status.idle": "2025-02-27T15:09:16.612762Z",
     "shell.execute_reply": "2025-02-27T15:09:16.611901Z"
    },
    "papermill": {
     "duration": 0.025519,
     "end_time": "2025-02-27T15:09:16.614177",
     "exception": false,
     "start_time": "2025-02-27T15:09:16.588658",
     "status": "completed"
    },
    "tags": []
   },
   "outputs": [
    {
     "data": {
      "text/html": [
       "<div>\n",
       "<style scoped>\n",
       "    .dataframe tbody tr th:only-of-type {\n",
       "        vertical-align: middle;\n",
       "    }\n",
       "\n",
       "    .dataframe tbody tr th {\n",
       "        vertical-align: top;\n",
       "    }\n",
       "\n",
       "    .dataframe thead th {\n",
       "        text-align: right;\n",
       "    }\n",
       "</style>\n",
       "<table border=\"1\" class=\"dataframe\">\n",
       "  <thead>\n",
       "    <tr style=\"text-align: right;\">\n",
       "      <th></th>\n",
       "      <th>ID</th>\n",
       "      <th>prediction</th>\n",
       "    </tr>\n",
       "  </thead>\n",
       "  <tbody>\n",
       "    <tr>\n",
       "      <th>0</th>\n",
       "      <td>28800</td>\n",
       "      <td>0.548324</td>\n",
       "    </tr>\n",
       "    <tr>\n",
       "      <th>1</th>\n",
       "      <td>28801</td>\n",
       "      <td>0.656586</td>\n",
       "    </tr>\n",
       "    <tr>\n",
       "      <th>2</th>\n",
       "      <td>28802</td>\n",
       "      <td>0.523322</td>\n",
       "    </tr>\n",
       "  </tbody>\n",
       "</table>\n",
       "</div>"
      ],
      "text/plain": [
       "      ID  prediction\n",
       "0  28800    0.548324\n",
       "1  28801    0.656586\n",
       "2  28802    0.523322"
      ]
     },
     "execution_count": 15,
     "metadata": {},
     "output_type": "execute_result"
    }
   ],
   "source": [
    "output = pd.DataFrame({\n",
    "    'ID': data_test_id, \n",
    "    'prediction': predictions\n",
    "})\n",
    "\n",
    "output"
   ]
  },
  {
   "cell_type": "code",
   "execution_count": 16,
   "id": "cf5bbd87",
   "metadata": {
    "execution": {
     "iopub.execute_input": "2025-02-27T15:09:16.627162Z",
     "iopub.status.busy": "2025-02-27T15:09:16.626884Z",
     "iopub.status.idle": "2025-02-27T15:09:16.634031Z",
     "shell.execute_reply": "2025-02-27T15:09:16.633244Z"
    },
    "papermill": {
     "duration": 0.014739,
     "end_time": "2025-02-27T15:09:16.635276",
     "exception": false,
     "start_time": "2025-02-27T15:09:16.620537",
     "status": "completed"
    },
    "tags": []
   },
   "outputs": [],
   "source": [
    "output.to_csv('submission.csv', index=False)"
   ]
  }
 ],
 "metadata": {
  "kaggle": {
   "accelerator": "gpu",
   "dataSources": [
    {
     "databundleVersionId": 10381525,
     "sourceId": 70942,
     "sourceType": "competition"
    },
    {
     "sourceId": 211322530,
     "sourceType": "kernelVersion"
    }
   ],
   "dockerImageVersionId": 30919,
   "isGpuEnabled": true,
   "isInternetEnabled": false,
   "language": "python",
   "sourceType": "notebook"
  },
  "kernelspec": {
   "display_name": "Python 3",
   "language": "python",
   "name": "python3"
  },
  "language_info": {
   "codemirror_mode": {
    "name": "ipython",
    "version": 3
   },
   "file_extension": ".py",
   "mimetype": "text/x-python",
   "name": "python",
   "nbconvert_exporter": "python",
   "pygments_lexer": "ipython3",
   "version": "3.10.12"
  },
  "papermill": {
   "default_parameters": {},
   "duration": 3377.543798,
   "end_time": "2025-02-27T15:09:17.263311",
   "environment_variables": {},
   "exception": null,
   "input_path": "__notebook__.ipynb",
   "output_path": "__notebook__.ipynb",
   "parameters": {},
   "start_time": "2025-02-27T14:12:59.719513",
   "version": "2.6.0"
  }
 },
 "nbformat": 4,
 "nbformat_minor": 5
}
